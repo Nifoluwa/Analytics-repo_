{
 "cells": [
  {
   "cell_type": "code",
   "execution_count": 28,
   "id": "58a3ea25-0bdc-437e-a620-d1aa6d64c773",
   "metadata": {},
   "outputs": [],
   "source": [
    "# Import necessary libraries\n",
    "\n",
    "import pandas as pd\n",
    "import matplotlib.pyplot as plt\n",
    "%matplotlib inline\n",
    "import seaborn as sns\n",
    "sns.set_palette('Set3')\n",
    "import numpy as np\n",
    "from warnings import filterwarnings\n",
    "filterwarnings(action=\"ignore\")\n",
    "from sklearn.model_selection import train_test_split, StratifiedShuffleSplit, GridSearchCV, cross_val_score\n",
    "from sklearn.preprocessing import StandardScaler,OneHotEncoder, OrdinalEncoder\n",
    "from sklearn.linear_model import LogisticRegression\n",
    "from sklearn.tree import DecisionTreeClassifier\n",
    "from sklearn.ensemble import RandomForestClassifier, GradientBoostingClassifier\n",
    "from sklearn.pipeline import Pipeline\n",
    "from sklearn.compose import ColumnTransformer\n",
    "from sklearn.svm import SVC\n",
    "from sklearn.metrics import f1_score, precision_score, recall_score, accuracy_score, classification_report, confusion_matrix, ConfusionMatrixDisplay, roc_auc_score, roc_curve, precision_recall_curve"
   ]
  },
  {
   "cell_type": "code",
   "execution_count": 2,
   "id": "8f973a44-0f08-41e1-9372-b9f6a030fcc0",
   "metadata": {},
   "outputs": [],
   "source": [
    "# Wrangle/pre-process the data\n",
    "def wrangle(dataset):\n",
    "# Read data into memory\n",
    "    data = pd.read_csv(dataset)\n",
    "\n",
    "#1) Bin the data \n",
    "    data[\"Age_dist\"] = pd.cut(data[\"Age\"], bins=[0,1,10,20,30,40,50,60,70,80,], labels=[\"1\", \"2\", \"3\", \"4\", \"5\", \"6\", \"7\", \"8\", \"9\"])\n",
    "\n",
    "    data[\"Age_dist\"].fillna(method=\"ffill\", inplace=True)\n",
    "    data[\"Smoking_history\"].replace(\"ever\", \"never\", inplace=True)\n",
    "    data[\"Gender\"].replace(\"Other\", \"Male\", inplace=True)\n",
    "    data[\"BMI\"] = np.log(data[\"BMI\"])\n",
    "#2) A stratified Shuffle Split    \n",
    "    split = StratifiedShuffleSplit(n_splits=1, test_size=0.2, random_state=42)\n",
    "    for train_index, test_index in split.split(data, data[\"Age_dist\"]):\n",
    "        strat_train_set = data.loc[train_index]\n",
    "        strat_test_set = data.loc[test_index]\n",
    "    strat_train_set.drop(\"Age_dist\", axis = 1, inplace=True)\n",
    "    strat_test_set.drop(\"Age_dist\", axis = 1, inplace=True)\n",
    "\n",
    "# Create training and test sets\n",
    "    train, test = strat_train_set, strat_test_set\n",
    "\n",
    "# 3) Create Feature matrices and target vectors\n",
    "    X_test, X_train = test.drop('Diabetes', axis=1), train.drop('Diabetes', axis=1)\n",
    "    y_test, y_train = test[\"Diabetes\"], train[\"Diabetes\"]\n",
    "\n",
    "    return {'X_train': X_train, 'X_test':X_test, 'y_train':y_train, 'y_test':y_test}\n",
    "\n",
    "\n",
    "\n",
    "\n",
    "\n",
    "def pipeline(df):\n",
    "# 1) Further preprocessing\n",
    "    order_smoke = ['never', 'No Info', 'former', 'not current','current']\n",
    "    df_continuous = [\"Age\", \"BMI\", \"HbA1c_level\", \"Blood_glucose_level\"]\n",
    "    df_multi_discrete = [\"Smoking_history\"]\n",
    "    df_single_discrete = [\"Gender\"]\n",
    "    \n",
    "# (2) Create necessary pipelines\n",
    "    continuous_pipeline = Pipeline(\n",
    "        [\n",
    "            ('std_scaler', StandardScaler())\n",
    "        ])\n",
    "    multi_discrete_pipeline = Pipeline(\n",
    "        [\n",
    "            (\"ordinal_encoder\", OrdinalEncoder(categories=[order_smoke]))\n",
    "        ])\n",
    "    single_discrete_pipeline = Pipeline(\n",
    "        [\n",
    "            (\"one_hot\", OneHotEncoder())\n",
    "        ])\n",
    "    \n",
    "    full_pipeline = ColumnTransformer(\n",
    "        [\n",
    "            (\"continuous\", continuous_pipeline, df_continuous),\n",
    "            (\"multi_discrete\", multi_discrete_pipeline, df_multi_discrete),\n",
    "            (\"single_discrete\", single_discrete_pipeline, df_single_discrete)\n",
    "        ],\n",
    "        remainder=\"passthrough\"\n",
    "    )\n",
    "    pipeline = Pipeline(\n",
    "        steps = [\n",
    "            ('preprocessor', full_pipeline)\n",
    "        ]\n",
    "    )\n",
    "    transformed_data = pipeline.fit_transform(df)\n",
    "    c_t = pipeline.named_steps[\"preprocessor\"]\n",
    "                   \n",
    "    output = {\"td\":transformed_data, \"c_t\":c_t}\n",
    "    return output\n",
    "\n"
   ]
  },
  {
   "cell_type": "markdown",
   "id": "378b0ce1-5557-4650-a647-c47ff38f73ac",
   "metadata": {},
   "source": [
    "##### The two functions above preprocess the data in various steps:\n",
    "##### - (1) The first function bins the data on the basis of the age of the patients. This is due to a significant portion of the patients being of the \n",
    "\n",
    "age 80. (2) A Stratified shuffle split,(as opposed to a random split), is carried out to preserve the integrity of patient age distributions and \n",
    "\n",
    "observations. This is due to the relatively high correlative value of age with other features in the dataset(See Correlation Matrix). (3) The training and test sets are created, along with target values, and then returned in dictionary form.\n",
    "\n",
    "##### - (1) The features are then treated and preprocessed for passing through the relevant pipelines. Categorical Features are encoded as \n",
    "appropriate, continuous features are scaled, and the final pipeline's details are stored to enable extraction of feature names."
   ]
  },
  {
   "cell_type": "code",
   "execution_count": 3,
   "id": "4eac17bf-08b9-4308-9f75-502271dd33c1",
   "metadata": {},
   "outputs": [],
   "source": [
    "data = wrangle(\"diabetes_prediction_dataset.csv\")"
   ]
  },
  {
   "cell_type": "code",
   "execution_count": 4,
   "id": "a7c810f6-d46a-4474-8a51-6c9270a116ed",
   "metadata": {},
   "outputs": [],
   "source": [
    "df_Xtrain, df_Xtest, df_ytrain, df_ytest  = data[\"X_train\"], data[\"X_test\"], data[\"y_train\"], data[\"y_test\"]"
   ]
  },
  {
   "cell_type": "code",
   "execution_count": 5,
   "id": "088a2a94-1f1c-4203-acf2-466ce174e73b",
   "metadata": {},
   "outputs": [],
   "source": [
    "X_train, y_train, X_test, y_test = pipeline(df_Xtrain)[\"td\"], data[\"y_train\"], pipeline(df_Xtest)[\"td\"], data[\"y_test\"]"
   ]
  },
  {
   "cell_type": "code",
   "execution_count": 6,
   "id": "20cf641c-95b0-4b14-91cb-2b188fb71d03",
   "metadata": {},
   "outputs": [
    {
     "name": "stdout",
     "output_type": "stream",
     "text": [
      "['Age', 'BMI', 'HbA1c_level', 'Blood_glucose_level', 'Smoking_history', 'Gender_Female', 'Gender_Male', 'Hypertension', 'Heart_disease']\n"
     ]
    }
   ],
   "source": [
    "def get_feature_names(column_transformer):\n",
    "    feature_names = []\n",
    "\n",
    "    for name, transformer, columns in column_transformer.transformers_:\n",
    "        if hasattr(transformer, 'get_feature_names_out'):\n",
    "            feature_names.extend(transformer.get_feature_names_out(columns))\n",
    "        else:\n",
    "            feature_names.extend(columns)\n",
    "    \n",
    "    return feature_names\n",
    "\n",
    "feature_names = get_feature_names(pipeline(df_Xtrain)[\"c_t\"])\n",
    "feature_names[-1], feature_names[-2] = \"Heart_disease\", \"Hypertension\"\n",
    "print(feature_names)\n"
   ]
  },
  {
   "cell_type": "code",
   "execution_count": 7,
   "id": "bb61c805-eaa2-4c9e-aa97-10002a01479d",
   "metadata": {},
   "outputs": [
    {
     "name": "stdout",
     "output_type": "stream",
     "text": [
      "Accuracy Score(Training):\t0.9606375\n",
      "Accuracy Score(Test):\t0.959\n",
      "              precision    recall  f1-score   support\n",
      "\n",
      "           0       0.96      0.99      0.98     18292\n",
      "           1       0.87      0.61      0.72      1708\n",
      "\n",
      "    accuracy                           0.96     20000\n",
      "   macro avg       0.92      0.80      0.85     20000\n",
      "weighted avg       0.96      0.96      0.96     20000\n",
      "\n",
      "Precision Score: 0.8675496688741722\n",
      "Recall Score: 0.6135831381733021\n",
      "F1 Score: 0.7187928669410152\n",
      "ROC Score: 0.802418072476111\n"
     ]
    }
   ],
   "source": [
    "log_model = LogisticRegression(random_state=42, C=2)\n",
    "log_model.fit(X_train, y_train)\n",
    "test_pred = log_model.predict(X_test)\n",
    "train_pred = log_model.predict(X_train)\n",
    "print(f\"Accuracy Score(Training):\\t{accuracy_score(y_train, train_pred)}\")\n",
    "print(f\"Accuracy Score(Test):\\t{accuracy_score(y_test, test_pred)}\")\n",
    "print(classification_report(y_test, test_pred))\n",
    "print(f\"Precision Score: {precision_score(y_test, test_pred)}\")\n",
    "print(f\"Recall Score: {recall_score(y_test, test_pred)}\")\n",
    "print(f\"F1 Score: {f1_score(y_test, test_pred)}\")\n",
    "print(f\"ROC Score: {roc_auc_score(y_test, test_pred)}\")"
   ]
  },
  {
   "cell_type": "code",
   "execution_count": 8,
   "id": "c81d2e2d-d13c-4d61-9310-8e2f5131c88b",
   "metadata": {},
   "outputs": [
    {
     "name": "stdout",
     "output_type": "stream",
     "text": [
      "Accuracy Score(Training):\t0.9644\n",
      "Accuracy Score(Test):\t0.9633\n",
      "              precision    recall  f1-score   support\n",
      "\n",
      "           0       0.96      1.00      0.98     18292\n",
      "           1       0.99      0.57      0.73      1708\n",
      "\n",
      "    accuracy                           0.96     20000\n",
      "   macro avg       0.98      0.79      0.85     20000\n",
      "weighted avg       0.96      0.96      0.96     20000\n",
      "\n",
      "Precision Score: 0.9949186991869918\n",
      "Recall Score: 0.5731850117096019\n",
      "F1 Score: 0.7273402674591382\n",
      "ROC Score: 0.7864558340857215\n"
     ]
    }
   ],
   "source": [
    "SVC_model = SVC(random_state=42, C=0.5)\n",
    "SVC_model.fit(X_train, y_train)\n",
    "SVC_test_pred = SVC_model.predict(X_test)\n",
    "SVC_train_pred = SVC_model.predict(X_train)\n",
    "print(f\"Accuracy Score(Training):\\t{accuracy_score(y_train, SVC_train_pred)}\")\n",
    "print(f\"Accuracy Score(Test):\\t{accuracy_score(y_test, SVC_test_pred)}\")\n",
    "print(classification_report(y_test, SVC_test_pred))\n",
    "print(f\"Precision Score: {precision_score(y_test, SVC_test_pred)}\")\n",
    "print(f\"Recall Score: {recall_score(y_test, SVC_test_pred)}\")\n",
    "print(f\"F1 Score: {f1_score(y_test, SVC_test_pred)}\")\n",
    "print(f\"ROC Score: {roc_auc_score(y_test, SVC_test_pred)}\")"
   ]
  },
  {
   "cell_type": "code",
   "execution_count": 9,
   "id": "11a525c0-48b2-40f5-bc38-026d216ac6cc",
   "metadata": {},
   "outputs": [
    {
     "name": "stdout",
     "output_type": "stream",
     "text": [
      "Accuracy Score(Training):\t0.972025\n",
      "Accuracy Score(Test):\t0.97125\n",
      "              precision    recall  f1-score   support\n",
      "\n",
      "           0       0.97      1.00      0.98     18292\n",
      "           1       1.00      0.66      0.80      1708\n",
      "\n",
      "    accuracy                           0.97     20000\n",
      "   macro avg       0.98      0.83      0.89     20000\n",
      "weighted avg       0.97      0.97      0.97     20000\n",
      "\n",
      "Precision Score: 1.0\n",
      "Recall Score: 0.6633489461358314\n",
      "F1 Score: 0.797606476592749\n",
      "ROC Score: 0.8316744730679158\n"
     ]
    }
   ],
   "source": [
    "tree_model = DecisionTreeClassifier(random_state=42, max_depth=4)\n",
    "tree_model.fit(X_train, y_train)\n",
    "tree_test_pred = tree_model.predict(X_test)\n",
    "tree_train_pred = tree_model.predict(X_train)\n",
    "print(f\"Accuracy Score(Training):\\t{accuracy_score(y_train, tree_train_pred)}\")\n",
    "print(f\"Accuracy Score(Test):\\t{accuracy_score(y_test, tree_test_pred)}\")\n",
    "print(classification_report(y_test, tree_test_pred))\n",
    "print(f\"Precision Score: {precision_score(y_test, tree_test_pred)}\")\n",
    "print(f\"Recall Score: {recall_score(y_test, tree_test_pred)}\")\n",
    "print(f\"F1 Score: {f1_score(y_test, tree_test_pred)}\")\n",
    "print(f\"ROC Score: {roc_auc_score(y_test, tree_test_pred)}\")"
   ]
  },
  {
   "cell_type": "code",
   "execution_count": 10,
   "id": "5486332d-940d-43c9-84da-04ee313be1ae",
   "metadata": {},
   "outputs": [
    {
     "data": {
      "image/png": "[encoded data removed]",
      "text/plain": [
       "<Figure size 640x480 with 1 Axes>"
      ]
     },
     "metadata": {},
     "output_type": "display_data"
    }
   ],
   "source": [
    "importances = list(tree_model.feature_importances_)\n",
    "diagram = pd.Series(importances, index=feature_names)\n",
    "diagram.plot(kind=\"barh\")\n",
    "plt.savefig(\"Fig_9.png\");"
   ]
  },
  {
   "cell_type": "code",
   "execution_count": 11,
   "id": "35c7712c-2487-4c4f-861e-b55fda2a8615",
   "metadata": {},
   "outputs": [
    {
     "data": {
      "text/plain": [
       "{'max_depth': 7, 'max_features': 4, 'n_estimators': 3}"
      ]
     },
     "execution_count": 11,
     "metadata": {},
     "output_type": "execute_result"
    }
   ],
   "source": [
    "param_grid = [\n",
    " {'n_estimators': [3, 10, 30], 'max_features': [2, 4, 6, 8], \"max_depth\":[i for i in range(1, 8)]},\n",
    " {'n_estimators': [3, 10], 'max_features': [2, 3, 4],  \"max_depth\":[i for i in range(1, 8)]},\n",
    " ]\n",
    "forest_reg = RandomForestClassifier(n_jobs=-1, random_state=42)\n",
    "grid_search = GridSearchCV(forest_reg, param_grid, cv=5,\n",
    "n_jobs= -1,\n",
    "return_train_score=True)\n",
    "grid_search.fit(X_train, y_train)\n",
    "grid_search.best_params_"
   ]
  },
  {
   "cell_type": "code",
   "execution_count": 12,
   "id": "3c7fbb21-49cc-44c2-996a-ac2da387ad26",
   "metadata": {},
   "outputs": [
    {
     "name": "stdout",
     "output_type": "stream",
     "text": [
      "Accuracy Score(Training):0.9720625\n",
      "Accuracy Score(Test):0.97135\n",
      "              precision    recall  f1-score   support\n",
      "\n",
      "           0       0.97      1.00      0.98     18292\n",
      "           1       1.00      0.67      0.80      1708\n",
      "\n",
      "    accuracy                           0.97     20000\n",
      "   macro avg       0.98      0.83      0.89     20000\n",
      "weighted avg       0.97      0.97      0.97     20000\n",
      "\n",
      "Precision Score: 0.9982440737489026\n",
      "Recall Score: 0.6656908665105387\n",
      "F1 Score: 0.7987355110642783\n",
      "ROC Score: 0.8327907645476375\n"
     ]
    }
   ],
   "source": [
    "best_model = grid_search.best_estimator_\n",
    "best_model_test_pred = best_model.predict(X_test)\n",
    "best_model_train_pred = best_model.predict(X_train)\n",
    "print(f\"Accuracy Score(Training):{accuracy_score(y_train, best_model_train_pred)}\")\n",
    "print(f\"Accuracy Score(Test):{accuracy_score(y_test, best_model_test_pred)}\")\n",
    "print(classification_report(y_test, best_model_test_pred))\n",
    "print(f\"Precision Score: {precision_score(y_test, best_model_test_pred)}\")\n",
    "print(f\"Recall Score: {recall_score(y_test, best_model_test_pred)}\")\n",
    "print(f\"F1 Score: {f1_score(y_test, best_model_test_pred)}\")\n",
    "print(f\"ROC Score: {roc_auc_score(y_test, best_model_test_pred)}\")"
   ]
  },
  {
   "cell_type": "markdown",
   "id": "cfb7f65f-cf15-46d6-a6a1-489447a1c238",
   "metadata": {},
   "source": [
    "#### Cross validation scores of the best fit model"
   ]
  },
  {
   "cell_type": "code",
   "execution_count": 13,
   "id": "69dab358-310c-4769-92af-fda4d65f9d6b",
   "metadata": {},
   "outputs": [
    {
     "name": "stdout",
     "output_type": "stream",
     "text": [
      "mean_score: 0.93\t : params: {'max_depth': 1, 'max_features': 2, 'n_estimators': 3}\n",
      "mean_score: 0.915\t : params: {'max_depth': 1, 'max_features': 2, 'n_estimators': 10}\n",
      "mean_score: 0.929\t : params: {'max_depth': 1, 'max_features': 2, 'n_estimators': 30}\n",
      "mean_score: 0.954\t : params: {'max_depth': 1, 'max_features': 4, 'n_estimators': 3}\n",
      "mean_score: 0.954\t : params: {'max_depth': 1, 'max_features': 4, 'n_estimators': 10}\n",
      "mean_score: 0.954\t : params: {'max_depth': 1, 'max_features': 4, 'n_estimators': 30}\n",
      "mean_score: 0.954\t : params: {'max_depth': 1, 'max_features': 6, 'n_estimators': 3}\n",
      "mean_score: 0.954\t : params: {'max_depth': 1, 'max_features': 6, 'n_estimators': 10}\n",
      "mean_score: 0.954\t : params: {'max_depth': 1, 'max_features': 6, 'n_estimators': 30}\n",
      "mean_score: 0.954\t : params: {'max_depth': 1, 'max_features': 8, 'n_estimators': 3}\n",
      "mean_score: 0.954\t : params: {'max_depth': 1, 'max_features': 8, 'n_estimators': 10}\n",
      "mean_score: 0.954\t : params: {'max_depth': 1, 'max_features': 8, 'n_estimators': 30}\n",
      "mean_score: 0.936\t : params: {'max_depth': 2, 'max_features': 2, 'n_estimators': 3}\n",
      "mean_score: 0.929\t : params: {'max_depth': 2, 'max_features': 2, 'n_estimators': 10}\n",
      "mean_score: 0.938\t : params: {'max_depth': 2, 'max_features': 2, 'n_estimators': 30}\n",
      "mean_score: 0.972\t : params: {'max_depth': 2, 'max_features': 4, 'n_estimators': 3}\n",
      "mean_score: 0.972\t : params: {'max_depth': 2, 'max_features': 4, 'n_estimators': 10}\n",
      "mean_score: 0.972\t : params: {'max_depth': 2, 'max_features': 4, 'n_estimators': 30}\n",
      "mean_score: 0.972\t : params: {'max_depth': 2, 'max_features': 6, 'n_estimators': 3}\n",
      "mean_score: 0.972\t : params: {'max_depth': 2, 'max_features': 6, 'n_estimators': 10}\n",
      "mean_score: 0.972\t : params: {'max_depth': 2, 'max_features': 6, 'n_estimators': 30}\n",
      "mean_score: 0.972\t : params: {'max_depth': 2, 'max_features': 8, 'n_estimators': 3}\n",
      "mean_score: 0.972\t : params: {'max_depth': 2, 'max_features': 8, 'n_estimators': 10}\n",
      "mean_score: 0.972\t : params: {'max_depth': 2, 'max_features': 8, 'n_estimators': 30}\n",
      "mean_score: 0.954\t : params: {'max_depth': 3, 'max_features': 2, 'n_estimators': 3}\n",
      "mean_score: 0.963\t : params: {'max_depth': 3, 'max_features': 2, 'n_estimators': 10}\n",
      "mean_score: 0.965\t : params: {'max_depth': 3, 'max_features': 2, 'n_estimators': 30}\n",
      "mean_score: 0.972\t : params: {'max_depth': 3, 'max_features': 4, 'n_estimators': 3}\n",
      "mean_score: 0.972\t : params: {'max_depth': 3, 'max_features': 4, 'n_estimators': 10}\n",
      "mean_score: 0.972\t : params: {'max_depth': 3, 'max_features': 4, 'n_estimators': 30}\n",
      "mean_score: 0.972\t : params: {'max_depth': 3, 'max_features': 6, 'n_estimators': 3}\n",
      "mean_score: 0.972\t : params: {'max_depth': 3, 'max_features': 6, 'n_estimators': 10}\n",
      "mean_score: 0.972\t : params: {'max_depth': 3, 'max_features': 6, 'n_estimators': 30}\n",
      "mean_score: 0.972\t : params: {'max_depth': 3, 'max_features': 8, 'n_estimators': 3}\n",
      "mean_score: 0.972\t : params: {'max_depth': 3, 'max_features': 8, 'n_estimators': 10}\n",
      "mean_score: 0.972\t : params: {'max_depth': 3, 'max_features': 8, 'n_estimators': 30}\n",
      "mean_score: 0.947\t : params: {'max_depth': 4, 'max_features': 2, 'n_estimators': 3}\n",
      "mean_score: 0.966\t : params: {'max_depth': 4, 'max_features': 2, 'n_estimators': 10}\n",
      "mean_score: 0.97\t : params: {'max_depth': 4, 'max_features': 2, 'n_estimators': 30}\n",
      "mean_score: 0.972\t : params: {'max_depth': 4, 'max_features': 4, 'n_estimators': 3}\n",
      "mean_score: 0.972\t : params: {'max_depth': 4, 'max_features': 4, 'n_estimators': 10}\n",
      "mean_score: 0.972\t : params: {'max_depth': 4, 'max_features': 4, 'n_estimators': 30}\n",
      "mean_score: 0.972\t : params: {'max_depth': 4, 'max_features': 6, 'n_estimators': 3}\n",
      "mean_score: 0.972\t : params: {'max_depth': 4, 'max_features': 6, 'n_estimators': 10}\n",
      "mean_score: 0.972\t : params: {'max_depth': 4, 'max_features': 6, 'n_estimators': 30}\n",
      "mean_score: 0.972\t : params: {'max_depth': 4, 'max_features': 8, 'n_estimators': 3}\n",
      "mean_score: 0.972\t : params: {'max_depth': 4, 'max_features': 8, 'n_estimators': 10}\n",
      "mean_score: 0.972\t : params: {'max_depth': 4, 'max_features': 8, 'n_estimators': 30}\n",
      "mean_score: 0.961\t : params: {'max_depth': 5, 'max_features': 2, 'n_estimators': 3}\n",
      "mean_score: 0.972\t : params: {'max_depth': 5, 'max_features': 2, 'n_estimators': 10}\n",
      "mean_score: 0.972\t : params: {'max_depth': 5, 'max_features': 2, 'n_estimators': 30}\n",
      "mean_score: 0.972\t : params: {'max_depth': 5, 'max_features': 4, 'n_estimators': 3}\n",
      "mean_score: 0.972\t : params: {'max_depth': 5, 'max_features': 4, 'n_estimators': 10}\n",
      "mean_score: 0.972\t : params: {'max_depth': 5, 'max_features': 4, 'n_estimators': 30}\n",
      "mean_score: 0.972\t : params: {'max_depth': 5, 'max_features': 6, 'n_estimators': 3}\n",
      "mean_score: 0.972\t : params: {'max_depth': 5, 'max_features': 6, 'n_estimators': 10}\n",
      "mean_score: 0.972\t : params: {'max_depth': 5, 'max_features': 6, 'n_estimators': 30}\n",
      "mean_score: 0.972\t : params: {'max_depth': 5, 'max_features': 8, 'n_estimators': 3}\n",
      "mean_score: 0.972\t : params: {'max_depth': 5, 'max_features': 8, 'n_estimators': 10}\n",
      "mean_score: 0.972\t : params: {'max_depth': 5, 'max_features': 8, 'n_estimators': 30}\n",
      "mean_score: 0.971\t : params: {'max_depth': 6, 'max_features': 2, 'n_estimators': 3}\n",
      "mean_score: 0.972\t : params: {'max_depth': 6, 'max_features': 2, 'n_estimators': 10}\n",
      "mean_score: 0.972\t : params: {'max_depth': 6, 'max_features': 2, 'n_estimators': 30}\n",
      "mean_score: 0.972\t : params: {'max_depth': 6, 'max_features': 4, 'n_estimators': 3}\n",
      "mean_score: 0.972\t : params: {'max_depth': 6, 'max_features': 4, 'n_estimators': 10}\n",
      "mean_score: 0.972\t : params: {'max_depth': 6, 'max_features': 4, 'n_estimators': 30}\n",
      "mean_score: 0.972\t : params: {'max_depth': 6, 'max_features': 6, 'n_estimators': 3}\n",
      "mean_score: 0.972\t : params: {'max_depth': 6, 'max_features': 6, 'n_estimators': 10}\n",
      "mean_score: 0.972\t : params: {'max_depth': 6, 'max_features': 6, 'n_estimators': 30}\n",
      "mean_score: 0.972\t : params: {'max_depth': 6, 'max_features': 8, 'n_estimators': 3}\n",
      "mean_score: 0.972\t : params: {'max_depth': 6, 'max_features': 8, 'n_estimators': 10}\n",
      "mean_score: 0.972\t : params: {'max_depth': 6, 'max_features': 8, 'n_estimators': 30}\n",
      "mean_score: 0.97\t : params: {'max_depth': 7, 'max_features': 2, 'n_estimators': 3}\n",
      "mean_score: 0.972\t : params: {'max_depth': 7, 'max_features': 2, 'n_estimators': 10}\n",
      "mean_score: 0.972\t : params: {'max_depth': 7, 'max_features': 2, 'n_estimators': 30}\n",
      "mean_score: 0.972\t : params: {'max_depth': 7, 'max_features': 4, 'n_estimators': 3}\n",
      "mean_score: 0.972\t : params: {'max_depth': 7, 'max_features': 4, 'n_estimators': 10}\n",
      "mean_score: 0.972\t : params: {'max_depth': 7, 'max_features': 4, 'n_estimators': 30}\n",
      "mean_score: 0.972\t : params: {'max_depth': 7, 'max_features': 6, 'n_estimators': 3}\n",
      "mean_score: 0.972\t : params: {'max_depth': 7, 'max_features': 6, 'n_estimators': 10}\n",
      "mean_score: 0.972\t : params: {'max_depth': 7, 'max_features': 6, 'n_estimators': 30}\n",
      "mean_score: 0.972\t : params: {'max_depth': 7, 'max_features': 8, 'n_estimators': 3}\n",
      "mean_score: 0.972\t : params: {'max_depth': 7, 'max_features': 8, 'n_estimators': 10}\n",
      "mean_score: 0.972\t : params: {'max_depth': 7, 'max_features': 8, 'n_estimators': 30}\n",
      "mean_score: 0.93\t : params: {'max_depth': 1, 'max_features': 2, 'n_estimators': 3}\n",
      "mean_score: 0.915\t : params: {'max_depth': 1, 'max_features': 2, 'n_estimators': 10}\n",
      "mean_score: 0.954\t : params: {'max_depth': 1, 'max_features': 3, 'n_estimators': 3}\n",
      "mean_score: 0.935\t : params: {'max_depth': 1, 'max_features': 3, 'n_estimators': 10}\n",
      "mean_score: 0.954\t : params: {'max_depth': 1, 'max_features': 4, 'n_estimators': 3}\n",
      "mean_score: 0.954\t : params: {'max_depth': 1, 'max_features': 4, 'n_estimators': 10}\n",
      "mean_score: 0.936\t : params: {'max_depth': 2, 'max_features': 2, 'n_estimators': 3}\n",
      "mean_score: 0.929\t : params: {'max_depth': 2, 'max_features': 2, 'n_estimators': 10}\n",
      "mean_score: 0.954\t : params: {'max_depth': 2, 'max_features': 3, 'n_estimators': 3}\n",
      "mean_score: 0.954\t : params: {'max_depth': 2, 'max_features': 3, 'n_estimators': 10}\n",
      "mean_score: 0.972\t : params: {'max_depth': 2, 'max_features': 4, 'n_estimators': 3}\n",
      "mean_score: 0.972\t : params: {'max_depth': 2, 'max_features': 4, 'n_estimators': 10}\n",
      "mean_score: 0.954\t : params: {'max_depth': 3, 'max_features': 2, 'n_estimators': 3}\n",
      "mean_score: 0.963\t : params: {'max_depth': 3, 'max_features': 2, 'n_estimators': 10}\n",
      "mean_score: 0.954\t : params: {'max_depth': 3, 'max_features': 3, 'n_estimators': 3}\n",
      "mean_score: 0.972\t : params: {'max_depth': 3, 'max_features': 3, 'n_estimators': 10}\n",
      "mean_score: 0.972\t : params: {'max_depth': 3, 'max_features': 4, 'n_estimators': 3}\n",
      "mean_score: 0.972\t : params: {'max_depth': 3, 'max_features': 4, 'n_estimators': 10}\n",
      "mean_score: 0.947\t : params: {'max_depth': 4, 'max_features': 2, 'n_estimators': 3}\n",
      "mean_score: 0.966\t : params: {'max_depth': 4, 'max_features': 2, 'n_estimators': 10}\n",
      "mean_score: 0.961\t : params: {'max_depth': 4, 'max_features': 3, 'n_estimators': 3}\n",
      "mean_score: 0.972\t : params: {'max_depth': 4, 'max_features': 3, 'n_estimators': 10}\n",
      "mean_score: 0.972\t : params: {'max_depth': 4, 'max_features': 4, 'n_estimators': 3}\n",
      "mean_score: 0.972\t : params: {'max_depth': 4, 'max_features': 4, 'n_estimators': 10}\n",
      "mean_score: 0.961\t : params: {'max_depth': 5, 'max_features': 2, 'n_estimators': 3}\n",
      "mean_score: 0.972\t : params: {'max_depth': 5, 'max_features': 2, 'n_estimators': 10}\n",
      "mean_score: 0.967\t : params: {'max_depth': 5, 'max_features': 3, 'n_estimators': 3}\n",
      "mean_score: 0.972\t : params: {'max_depth': 5, 'max_features': 3, 'n_estimators': 10}\n",
      "mean_score: 0.972\t : params: {'max_depth': 5, 'max_features': 4, 'n_estimators': 3}\n",
      "mean_score: 0.972\t : params: {'max_depth': 5, 'max_features': 4, 'n_estimators': 10}\n",
      "mean_score: 0.971\t : params: {'max_depth': 6, 'max_features': 2, 'n_estimators': 3}\n",
      "mean_score: 0.972\t : params: {'max_depth': 6, 'max_features': 2, 'n_estimators': 10}\n",
      "mean_score: 0.971\t : params: {'max_depth': 6, 'max_features': 3, 'n_estimators': 3}\n",
      "mean_score: 0.972\t : params: {'max_depth': 6, 'max_features': 3, 'n_estimators': 10}\n",
      "mean_score: 0.972\t : params: {'max_depth': 6, 'max_features': 4, 'n_estimators': 3}\n",
      "mean_score: 0.972\t : params: {'max_depth': 6, 'max_features': 4, 'n_estimators': 10}\n",
      "mean_score: 0.97\t : params: {'max_depth': 7, 'max_features': 2, 'n_estimators': 3}\n",
      "mean_score: 0.972\t : params: {'max_depth': 7, 'max_features': 2, 'n_estimators': 10}\n",
      "mean_score: 0.968\t : params: {'max_depth': 7, 'max_features': 3, 'n_estimators': 3}\n",
      "mean_score: 0.972\t : params: {'max_depth': 7, 'max_features': 3, 'n_estimators': 10}\n",
      "mean_score: 0.972\t : params: {'max_depth': 7, 'max_features': 4, 'n_estimators': 3}\n",
      "mean_score: 0.972\t : params: {'max_depth': 7, 'max_features': 4, 'n_estimators': 10}\n"
     ]
    }
   ],
   "source": [
    "cvres = grid_search.cv_results_\n",
    "for mean_score, params in zip(cvres[\"mean_test_score\"], cvres[\"params\"]):\n",
    "    print(f\"mean_score: {round(mean_score, 3)}\\t : params: {params}\")"
   ]
  },
  {
   "cell_type": "code",
   "execution_count": 14,
   "id": "aa83ae90-e03c-42e7-8b84-fc6d59ba1f9c",
   "metadata": {},
   "outputs": [
    {
     "name": "stdout",
     "output_type": "stream",
     "text": [
      "Accuracy Score(Training):0.972025\n",
      "Accuracy Score(Test):0.9712\n",
      "              precision    recall  f1-score   support\n",
      "\n",
      "           0       0.97      1.00      0.98     18292\n",
      "           1       0.97      0.68      0.80      1708\n",
      "\n",
      "    accuracy                           0.97     20000\n",
      "   macro avg       0.97      0.84      0.89     20000\n",
      "weighted avg       0.97      0.97      0.97     20000\n",
      "\n",
      "Precision Score: 0.974036850921273\n",
      "Recall Score: 0.6809133489461359\n",
      "F1 Score: 0.8015161957270848\n",
      "ROC Score: 0.8396093095047759\n"
     ]
    }
   ],
   "source": [
    "forest_model = RandomForestClassifier(random_state=42, max_depth=7, n_jobs=-1, n_estimators=3, max_features=8)\n",
    "forest_model.fit(X_train, y_train)\n",
    "forest_test_pred = forest_model.predict(X_test)\n",
    "forest_train_pred = forest_model.predict(X_train)\n",
    "print(f\"Accuracy Score(Training):{accuracy_score(y_train, forest_train_pred)}\")\n",
    "print(f\"Accuracy Score(Test):{accuracy_score(y_test, forest_test_pred)}\")\n",
    "print(classification_report(y_test, forest_test_pred))\n",
    "print(f\"Precision Score: {precision_score(y_test, forest_test_pred)}\")\n",
    "print(f\"Recall Score: {recall_score(y_test, forest_test_pred)}\")\n",
    "print(f\"F1 Score: {f1_score(y_test, forest_test_pred)}\")\n",
    "print(f\"ROC Score: {roc_auc_score(y_test, forest_test_pred)}\")"
   ]
  },
  {
   "cell_type": "code",
   "execution_count": 15,
   "id": "26c8358b-f740-4779-8f2f-bd43e929eec0",
   "metadata": {},
   "outputs": [
    {
     "name": "stdout",
     "output_type": "stream",
     "text": [
      "Accuracy Score(Training):0.9720625\n",
      "Accuracy Score(Test):0.97135\n",
      "              precision    recall  f1-score   support\n",
      "\n",
      "           0       0.97      1.00      0.98     18292\n",
      "           1       1.00      0.67      0.80      1708\n",
      "\n",
      "    accuracy                           0.97     20000\n",
      "   macro avg       0.98      0.83      0.89     20000\n",
      "weighted avg       0.97      0.97      0.97     20000\n",
      "\n",
      "Precision Score: 0.9982440737489026\n",
      "Recall Score: 0.6656908665105387\n",
      "F1 Score: 0.7987355110642783\n",
      "ROC Score: 0.8327907645476375\n"
     ]
    }
   ],
   "source": [
    "forest_model = RandomForestClassifier(random_state=42, max_depth=7, n_jobs=-1, n_estimators=3, max_features=4)\n",
    "forest_model.fit(X_train, y_train)\n",
    "forest_test_pred = forest_model.predict(X_test)\n",
    "forest_train_pred = forest_model.predict(X_train)\n",
    "print(f\"Accuracy Score(Training):{accuracy_score(y_train, forest_train_pred)}\")\n",
    "print(f\"Accuracy Score(Test):{accuracy_score(y_test, forest_test_pred)}\")\n",
    "print(classification_report(y_test, forest_test_pred))\n",
    "print(f\"Precision Score: {precision_score(y_test, forest_test_pred)}\")\n",
    "print(f\"Recall Score: {recall_score(y_test, forest_test_pred)}\")\n",
    "print(f\"F1 Score: {f1_score(y_test, forest_test_pred)}\")\n",
    "print(f\"ROC Score: {roc_auc_score(y_test, forest_test_pred)}\")"
   ]
  },
  {
   "cell_type": "code",
   "execution_count": 16,
   "id": "4b818332-7209-4b51-b17d-3c552aa63911",
   "metadata": {},
   "outputs": [
    {
     "name": "stdout",
     "output_type": "stream",
     "text": [
      "FPR: [0.00000000e+00 2.73194186e-05 1.00000000e+00]\n",
      "TPR: [0.         0.67123086 1.        ]\n"
     ]
    }
   ],
   "source": [
    "fpr, tpr, thresholds = roc_curve(y_train, forest_train_pred)\n",
    "print(f\"FPR: {fpr}\")\n",
    "print(f\"TPR: {tpr}\")"
   ]
  },
  {
   "cell_type": "code",
   "execution_count": 17,
   "id": "6fea092a-2aa6-4bcf-a07e-bda00155c30a",
   "metadata": {},
   "outputs": [
    {
     "data": {
      "image/png": "[encoded data removed]",
      "text/plain": [
       "<Figure size 640x480 with 1 Axes>"
      ]
     },
     "metadata": {},
     "output_type": "display_data"
    }
   ],
   "source": [
    "forest_matrix = confusion_matrix(y_test, forest_test_pred)\n",
    "disp = ConfusionMatrixDisplay(forest_matrix)\n",
    "disp.plot(colorbar=False);\n",
    "#plt.savefig(\"Fig_1000.png\");"
   ]
  },
  {
   "cell_type": "code",
   "execution_count": 20,
   "id": "648388a2-cbcb-45e0-b3b9-e07498a6670d",
   "metadata": {},
   "outputs": [
    {
     "data": {
      "image/png": "[encoded data removed]",
      "text/plain": [
       "<Figure size 500x500 with 1 Axes>"
      ]
     },
     "metadata": {},
     "output_type": "display_data"
    }
   ],
   "source": [
    "importances = list(forest_model.feature_importances_)\n",
    "diagram = pd.Series(importances, index=feature_names)\n",
    "diagram.plot(kind=\"barh\", figsize=(5, 5));\n",
    "#plt.savefig(\"Feat_imp.png\");"
   ]
  },
  {
   "cell_type": "code",
   "execution_count": null,
   "id": "bbdcaae6-62bc-4738-9bcc-6d9037c3f7f4",
   "metadata": {},
   "outputs": [],
   "source": []
  }
 ],
 "metadata": {
  "kernelspec": {
   "display_name": "Python 3 (ipykernel)",
   "language": "python",
   "name": "python3"
  },
  "language_info": {
   "codemirror_mode": {
    "name": "ipython",
    "version": 3
   },
   "file_extension": ".py",
   "mimetype": "text/x-python",
   "name": "python",
   "nbconvert_exporter": "python",
   "pygments_lexer": "ipython3",
   "version": "3.11.7"
  }
 },
 "nbformat": 4,
 "nbformat_minor": 5
}
