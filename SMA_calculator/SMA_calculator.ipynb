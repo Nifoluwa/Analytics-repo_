{
 "cells": [
  {
   "cell_type": "code",
   "execution_count": 1,
   "id": "25b4b432-97d1-428d-88f2-c399f3eb70d9",
   "metadata": {},
   "outputs": [],
   "source": [
    "import os\n",
    "import requests\n",
    "import json\n",
    "import warnings\n",
    "from warnings import filterwarnings\n",
    "filterwarnings(action=\"ignore\")\n",
    "from pprint import pprint\n",
    "import pandas as pd\n",
    "import matplotlib.pyplot as plt\n",
    "import pmdarima as pm\n",
    "import numpy as np\n",
    "import plotly.express as px\n",
    "import plotly.graph_objects as go"
   ]
  },
  {
   "cell_type": "code",
   "execution_count": 2,
   "id": "33674da5-284d-4893-bf8b-f1ec3137798f",
   "metadata": {},
   "outputs": [],
   "source": [
    "filename = \"MTN.json\""
   ]
  },
  {
   "cell_type": "code",
   "execution_count": 3,
   "id": "989c33e7-4042-42cc-8075-4d18f973bdbf",
   "metadata": {},
   "outputs": [],
   "source": [
    "def wrangle(filename:str, key:str, train_size:float= 0.8,*args) -> dict:\n",
    "    '''Written strictly to deal with data extracted using AlphaVantage API's.\n",
    "    Not for general use. Designed to deal with stock price data and present it in a usable(DataFrame)\n",
    "    condition.\n",
    "    Parameters:\n",
    "    --------------------\n",
    "            filename: str -> The file in question. Must be json.\n",
    "            train_size: float(optional) -> The size of data kept for training\n",
    "            key: str: The relevant key header in the file\n",
    "\n",
    "    Returns-> dictionary of training data(closing stock prices) and test data\n",
    "\n",
    "            '''\n",
    "    with open(filename) as f:\n",
    "        data = json.load(f)\n",
    "\n",
    "    # Identifying relevant keys and values for extraction\n",
    "    # Conversion of data to a DataFrame and transposition to allow for easier manipulation\n",
    "    # df_comp = pd.DataFrame(data[\"Time Series (Daily)\"]).T\n",
    "    df_comp = pd.DataFrame(data[key]).T\n",
    "    # Conversion of 'Object' types to float\n",
    "    for i in df_comp.columns:\n",
    "        df_comp[i] = df_comp[i].astype(float)\n",
    "    df_comp = df_comp[::-1]\n",
    "\n",
    "    df_comp.rename(\n",
    "        columns={\"4. close\": \"close\", \"1. open\": \"open\", \"2. high\": \"high\", \"3. low\": \"low\", \"5. volume\": \"volume\"},\n",
    "        inplace=True)\n",
    "    df = df_comp.copy()\n",
    "    df[\"dates\"] = df.index\n",
    "    df_comp[\"dates\"] = df_comp.index\n",
    "\n",
    "    df.dates = pd.to_datetime(df.dates, yearfirst=True)\n",
    "    df.set_index(\"dates\", inplace=True)\n",
    "    df = df.asfreq('b')\n",
    "    df.fillna(method=\"ffill\", inplace=True)\n",
    "\n",
    "    df_comp.dates = pd.to_datetime(df_comp.dates, yearfirst=True)\n",
    "    df_comp.set_index(\"dates\", inplace=True)\n",
    "    df_comp = df_comp.asfreq('b')\n",
    "    df_comp.fillna(method=\"ffill\", inplace=True)\n",
    "\n",
    "    df_ = df_comp.copy()\n",
    "\n",
    "\n",
    "    size = int(train_size * len(df))\n",
    "    df_train = df.iloc[:size]\n",
    "    df_test = df.iloc[size:]\n",
    "\n",
    "    frames = {\"train\": df_train, \"test\": df_test, \"copy\": df_}\n",
    "\n",
    "    return frames\n"
   ]
  },
  {
   "cell_type": "code",
   "execution_count": 4,
   "id": "c56f7343-6b03-4f0d-b847-a6437d94e467",
   "metadata": {},
   "outputs": [],
   "source": [
    "#output = wrangle(filename)\n",
    "output = wrangle(filename, \"Time Series (Daily)\")"
   ]
  },
  {
   "cell_type": "code",
   "execution_count": 5,
   "id": "53dd9890-4299-4410-b0d8-2ab1b680938f",
   "metadata": {},
   "outputs": [],
   "source": [
    "df_train = output[\"train\"]"
   ]
  },
  {
   "cell_type": "code",
   "execution_count": 6,
   "id": "eb0dc015-aec0-4c25-862d-391d3c59aa4f",
   "metadata": {},
   "outputs": [
    {
     "data": {
      "text/plain": [
       "82"
      ]
     },
     "execution_count": 6,
     "metadata": {},
     "output_type": "execute_result"
    }
   ],
   "source": [
    "len(df_train)"
   ]
  },
  {
   "cell_type": "code",
   "execution_count": 7,
   "id": "35cd66be-6e8a-4e81-b758-602e54a68e29",
   "metadata": {},
   "outputs": [],
   "source": [
    "class MovingAverageCalculator:\n",
    "    '''Code base for a moving average calculator. Computes moving averages on a time series\n",
    "    stock price dataset\n",
    "    Parameters:\n",
    "    -------------\n",
    "    prices: str-> The relevant filename containing the preprocessed time series data.'''\n",
    "    \n",
    "    def __init__(self, prices):\n",
    "        self.prices = prices\n",
    "        self.__sma = []\n",
    "\n",
    "    @property\n",
    "    def sma(self):\n",
    "        return self.__sma\n",
    "\n",
    "    def moving_averages(self, window:int, type:str) -> dict:\n",
    "        '''\n",
    "        Returns DataFrame of given dataset and the moving averages as specified.\n",
    "        Parameters:\n",
    "        -----------------\n",
    "        window: int -> Moving average window\n",
    "        type: str -> One of \"high\", \"low\", \"open\" or \"close\" prices\n",
    "        :return: Dictionary:\n",
    "        keys : values\n",
    "        Data : DataFrame of formatted TS data and moving average values\n",
    "        Buy_values : Bull values\n",
    "        Buy_dates : Bull dates\n",
    "        Sell_values: Bear values\n",
    "        Sell_dates : Sell dates\n",
    "        \n",
    "        '''\n",
    "        buy_dates = []\n",
    "        buy_values = []\n",
    "        sell_dates = []\n",
    "        sell_values = [] \n",
    "        results = {}\n",
    "        for i in range(len(self.prices) - window + 1):\n",
    "            avg = np.mean(self.prices[type][i:i + window])\n",
    "            self.__sma.append(avg)\n",
    "        self.prices = self.prices.iloc[window - 1:]\n",
    "        for i in range(1, len(self.prices)):\n",
    "            if self.prices[type].iloc[i-1] < self.__sma[i-1] and self.prices[type].iloc[i] > self.__sma[i]:\n",
    "                buy_dates.append(self.prices.index[i])\n",
    "                buy_values.append(self.prices[type].iloc[i])\n",
    "            elif self.prices[type].iloc[i-1] > self.__sma[i-1] and self.prices[type].iloc[i] < self.__sma[i]:\n",
    "                sell_dates.append(self.prices.index[i])\n",
    "                sell_values.append(self.prices[type].iloc[i])\n",
    "            \n",
    "        self.prices[f\"{type} MA {window}\"] = self.__sma\n",
    "        results[\"Data\"] = self.prices\n",
    "        results[\"Buy_values\"] = buy_values\n",
    "        results[\"Buy_dates\"] = pd.to_datetime(buy_dates)\n",
    "        results[\"Sell_dates\"] = pd.to_datetime(sell_dates)\n",
    "        results[\"Sell_values\"] = sell_values\n",
    "        \n",
    "\n",
    "        return results\n"
   ]
  },
  {
   "cell_type": "code",
   "execution_count": 8,
   "id": "77ffc1cf-16cb-4d01-9d80-3959f83b1306",
   "metadata": {},
   "outputs": [
    {
     "data": {
      "text/plain": [
       "open          5.04\n",
       "high          5.12\n",
       "low           5.00\n",
       "close         5.00\n",
       "volume    36744.00\n",
       "Name: 2024-04-09 00:00:00, dtype: float64"
      ]
     },
     "execution_count": 8,
     "metadata": {},
     "output_type": "execute_result"
    }
   ],
   "source": [
    "df_train.iloc[2]"
   ]
  },
  {
   "cell_type": "code",
   "execution_count": 9,
   "id": "23124de7-62b1-457e-94d8-2128e1943ee3",
   "metadata": {},
   "outputs": [],
   "source": [
    "results = MovingAverageCalculator(df_train)"
   ]
  },
  {
   "cell_type": "code",
   "execution_count": 10,
   "id": "0e14dacc-acca-4500-bc74-f681026aaf1f",
   "metadata": {},
   "outputs": [],
   "source": [
    "data = results.moving_averages(3, \"open\")"
   ]
  },
  {
   "cell_type": "code",
   "execution_count": 11,
   "id": "645b88d2-11a2-4431-8752-d5fba1e1bd38",
   "metadata": {},
   "outputs": [],
   "source": [
    "df = data[\"Data\"]"
   ]
  },
  {
   "cell_type": "code",
   "execution_count": 12,
   "id": "5e663920-b4d1-4336-9201-4d27b7d4851c",
   "metadata": {},
   "outputs": [
    {
     "data": {
      "text/html": [
       "<div>\n",
       "<style scoped>\n",
       "    .dataframe tbody tr th:only-of-type {\n",
       "        vertical-align: middle;\n",
       "    }\n",
       "\n",
       "    .dataframe tbody tr th {\n",
       "        vertical-align: top;\n",
       "    }\n",
       "\n",
       "    .dataframe thead th {\n",
       "        text-align: right;\n",
       "    }\n",
       "</style>\n",
       "<table border=\"1\" class=\"dataframe\">\n",
       "  <thead>\n",
       "    <tr style=\"text-align: right;\">\n",
       "      <th></th>\n",
       "      <th>open</th>\n",
       "      <th>high</th>\n",
       "      <th>low</th>\n",
       "      <th>close</th>\n",
       "      <th>volume</th>\n",
       "      <th>open MA 3</th>\n",
       "    </tr>\n",
       "    <tr>\n",
       "      <th>dates</th>\n",
       "      <th></th>\n",
       "      <th></th>\n",
       "      <th></th>\n",
       "      <th></th>\n",
       "      <th></th>\n",
       "      <th></th>\n",
       "    </tr>\n",
       "  </thead>\n",
       "  <tbody>\n",
       "    <tr>\n",
       "      <th>2024-04-09</th>\n",
       "      <td>5.0400</td>\n",
       "      <td>5.1200</td>\n",
       "      <td>5.0000</td>\n",
       "      <td>5.0000</td>\n",
       "      <td>36744.0</td>\n",
       "      <td>5.140000</td>\n",
       "    </tr>\n",
       "    <tr>\n",
       "      <th>2024-04-10</th>\n",
       "      <td>5.0000</td>\n",
       "      <td>5.0000</td>\n",
       "      <td>4.9200</td>\n",
       "      <td>4.9200</td>\n",
       "      <td>36685.0</td>\n",
       "      <td>5.056667</td>\n",
       "    </tr>\n",
       "    <tr>\n",
       "      <th>2024-04-11</th>\n",
       "      <td>4.9700</td>\n",
       "      <td>5.0100</td>\n",
       "      <td>4.9000</td>\n",
       "      <td>4.9740</td>\n",
       "      <td>28702.0</td>\n",
       "      <td>5.003333</td>\n",
       "    </tr>\n",
       "    <tr>\n",
       "      <th>2024-04-12</th>\n",
       "      <td>4.8150</td>\n",
       "      <td>4.8700</td>\n",
       "      <td>4.7900</td>\n",
       "      <td>4.7900</td>\n",
       "      <td>18712.0</td>\n",
       "      <td>4.928333</td>\n",
       "    </tr>\n",
       "    <tr>\n",
       "      <th>2024-04-15</th>\n",
       "      <td>4.7500</td>\n",
       "      <td>4.7500</td>\n",
       "      <td>4.5700</td>\n",
       "      <td>4.5840</td>\n",
       "      <td>19093.0</td>\n",
       "      <td>4.845000</td>\n",
       "    </tr>\n",
       "    <tr>\n",
       "      <th>...</th>\n",
       "      <td>...</td>\n",
       "      <td>...</td>\n",
       "      <td>...</td>\n",
       "      <td>...</td>\n",
       "      <td>...</td>\n",
       "      <td>...</td>\n",
       "    </tr>\n",
       "    <tr>\n",
       "      <th>2024-07-23</th>\n",
       "      <td>4.0800</td>\n",
       "      <td>4.2200</td>\n",
       "      <td>4.0800</td>\n",
       "      <td>4.2200</td>\n",
       "      <td>40590.0</td>\n",
       "      <td>4.103467</td>\n",
       "    </tr>\n",
       "    <tr>\n",
       "      <th>2024-07-24</th>\n",
       "      <td>4.2450</td>\n",
       "      <td>4.2450</td>\n",
       "      <td>4.1584</td>\n",
       "      <td>4.1584</td>\n",
       "      <td>34556.0</td>\n",
       "      <td>4.148333</td>\n",
       "    </tr>\n",
       "    <tr>\n",
       "      <th>2024-07-25</th>\n",
       "      <td>4.1108</td>\n",
       "      <td>4.2800</td>\n",
       "      <td>4.1108</td>\n",
       "      <td>4.2800</td>\n",
       "      <td>183019.0</td>\n",
       "      <td>4.145267</td>\n",
       "    </tr>\n",
       "    <tr>\n",
       "      <th>2024-07-26</th>\n",
       "      <td>4.2600</td>\n",
       "      <td>4.2993</td>\n",
       "      <td>4.2200</td>\n",
       "      <td>4.2245</td>\n",
       "      <td>26081.0</td>\n",
       "      <td>4.205267</td>\n",
       "    </tr>\n",
       "    <tr>\n",
       "      <th>2024-07-29</th>\n",
       "      <td>4.1360</td>\n",
       "      <td>4.1900</td>\n",
       "      <td>4.1100</td>\n",
       "      <td>4.1550</td>\n",
       "      <td>18141.0</td>\n",
       "      <td>4.168933</td>\n",
       "    </tr>\n",
       "  </tbody>\n",
       "</table>\n",
       "<p>80 rows × 6 columns</p>\n",
       "</div>"
      ],
      "text/plain": [
       "              open    high     low   close    volume  open MA 3\n",
       "dates                                                          \n",
       "2024-04-09  5.0400  5.1200  5.0000  5.0000   36744.0   5.140000\n",
       "2024-04-10  5.0000  5.0000  4.9200  4.9200   36685.0   5.056667\n",
       "2024-04-11  4.9700  5.0100  4.9000  4.9740   28702.0   5.003333\n",
       "2024-04-12  4.8150  4.8700  4.7900  4.7900   18712.0   4.928333\n",
       "2024-04-15  4.7500  4.7500  4.5700  4.5840   19093.0   4.845000\n",
       "...            ...     ...     ...     ...       ...        ...\n",
       "2024-07-23  4.0800  4.2200  4.0800  4.2200   40590.0   4.103467\n",
       "2024-07-24  4.2450  4.2450  4.1584  4.1584   34556.0   4.148333\n",
       "2024-07-25  4.1108  4.2800  4.1108  4.2800  183019.0   4.145267\n",
       "2024-07-26  4.2600  4.2993  4.2200  4.2245   26081.0   4.205267\n",
       "2024-07-29  4.1360  4.1900  4.1100  4.1550   18141.0   4.168933\n",
       "\n",
       "[80 rows x 6 columns]"
      ]
     },
     "execution_count": 12,
     "metadata": {},
     "output_type": "execute_result"
    }
   ],
   "source": [
    "df"
   ]
  },
  {
   "cell_type": "code",
   "execution_count": 13,
   "id": "405e3dbe-8ff3-4c61-a049-ff14f44b9f15",
   "metadata": {
    "scrolled": true
   },
   "outputs": [],
   "source": [
    "sell_dates, sell_values, buy_dates, buy_values = data['Sell_dates'],  data['Sell_values'], data['Buy_dates'], data['Buy_values']"
   ]
  },
  {
   "cell_type": "code",
   "execution_count": 19,
   "id": "708372ac-8772-49d0-87ed-2ada8a61fdeb",
   "metadata": {},
   "outputs": [
    {
     "data": {
      "image/png": "[encoded data removed]",
      "text/plain": [
       "<Figure size 1500x500 with 1 Axes>"
      ]
     },
     "metadata": {},
     "output_type": "display_data"
    }
   ],
   "source": [
    "plt.figure(figsize=(15, 5))\n",
    "plt.plot(df[[\"open\", \"open MA 3\"]])\n",
    "plt.legend(labels=[\"mkt_price\", \"moving_avg\"], loc=\"lower left\")\n",
    "plt.scatter(sell_dates, sell_values, marker='v', color=\"red\", zorder=5)\n",
    "plt.scatter(buy_dates, buy_values, marker='^', color=\"green\", zorder=5);"
   ]
  },
  {
   "cell_type": "code",
   "execution_count": 16,
   "id": "53222a09-9c90-4f8b-871a-02b7dd69d1fa",
   "metadata": {},
   "outputs": [],
   "source": [
    "fig = go.Figure()"
   ]
  },
  {
   "cell_type": "code",
   "execution_count": 20,
   "id": "13f5a64e-ac72-445e-92d8-b6e68c31af51",
   "metadata": {},
   "outputs": [
    {
     "data": {
      "application/vnd.plotly.v1+json": {
       "config": {
        "plotlyServerURL": "https://plot.ly"
       },
       "data": [
        {
         "name": "mkt_price",
         "type": "scatter",
         "x": [
          "2024-04-09T00:00:00",
          "2024-04-10T00:00:00",
          "2024-04-11T00:00:00",
          "2024-04-12T00:00:00",
          "2024-04-15T00:00:00",
          "2024-04-16T00:00:00",
          "2024-04-17T00:00:00",
          "2024-04-18T00:00:00",
          "2024-04-19T00:00:00",
          "2024-04-22T00:00:00",
          "2024-04-23T00:00:00",
          "2024-04-24T00:00:00",
          "2024-04-25T00:00:00",
          "2024-04-26T00:00:00",
          "2024-04-29T00:00:00",
          "2024-04-30T00:00:00",
          "2024-05-01T00:00:00",
          "2024-05-02T00:00:00",
          "2024-05-03T00:00:00",
          "2024-05-06T00:00:00",
          "2024-05-07T00:00:00",
          "2024-05-08T00:00:00",
          "2024-05-09T00:00:00",
          "2024-05-10T00:00:00",
          "2024-05-13T00:00:00",
          "2024-05-14T00:00:00",
          "2024-05-15T00:00:00",
          "2024-05-16T00:00:00",
          "2024-05-17T00:00:00",
          "2024-05-20T00:00:00",
          "2024-05-21T00:00:00",
          "2024-05-22T00:00:00",
          "2024-05-23T00:00:00",
          "2024-05-24T00:00:00",
          "2024-05-27T00:00:00",
          "2024-05-28T00:00:00",
          "2024-05-29T00:00:00",
          "2024-05-30T00:00:00",
          "2024-05-31T00:00:00",
          "2024-06-03T00:00:00",
          "2024-06-04T00:00:00",
          "2024-06-05T00:00:00",
          "2024-06-06T00:00:00",
          "2024-06-07T00:00:00",
          "2024-06-10T00:00:00",
          "2024-06-11T00:00:00",
          "2024-06-12T00:00:00",
          "2024-06-13T00:00:00",
          "2024-06-14T00:00:00",
          "2024-06-17T00:00:00",
          "2024-06-18T00:00:00",
          "2024-06-19T00:00:00",
          "2024-06-20T00:00:00",
          "2024-06-21T00:00:00",
          "2024-06-24T00:00:00",
          "2024-06-25T00:00:00",
          "2024-06-26T00:00:00",
          "2024-06-27T00:00:00",
          "2024-06-28T00:00:00",
          "2024-07-01T00:00:00",
          "2024-07-02T00:00:00",
          "2024-07-03T00:00:00",
          "2024-07-04T00:00:00",
          "2024-07-05T00:00:00",
          "2024-07-08T00:00:00",
          "2024-07-09T00:00:00",
          "2024-07-10T00:00:00",
          "2024-07-11T00:00:00",
          "2024-07-12T00:00:00",
          "2024-07-15T00:00:00",
          "2024-07-16T00:00:00",
          "2024-07-17T00:00:00",
          "2024-07-18T00:00:00",
          "2024-07-19T00:00:00",
          "2024-07-22T00:00:00",
          "2024-07-23T00:00:00",
          "2024-07-24T00:00:00",
          "2024-07-25T00:00:00",
          "2024-07-26T00:00:00",
          "2024-07-29T00:00:00"
         ],
         "y": [
          5.04,
          5,
          4.97,
          4.815,
          4.75,
          4.5,
          4.5,
          4.33,
          4.12,
          4.35,
          4.41,
          4.47,
          4.45,
          4.605,
          4.8,
          5.04,
          4.85,
          4.94,
          5.06,
          5.11,
          5.082,
          5.05,
          5.01,
          5.06,
          5.15,
          4.76,
          4.75,
          4.75,
          4.7104,
          4.66,
          4.8,
          4.79,
          4.66,
          4.77,
          4.77,
          4.73,
          4.66,
          4.65,
          4.5,
          4.535,
          4.51,
          4.5,
          4.335,
          4.32,
          4.34,
          4.33,
          4.445,
          4.3,
          4.38,
          4.48,
          4.7,
          4.7,
          4.62,
          4.82,
          4.58,
          4.66,
          4.515,
          4.445,
          4.705,
          4.835,
          4.505,
          4.599,
          4.599,
          4.51,
          4.54,
          4.64,
          4.68,
          4.55,
          4.64,
          4.48,
          4.37,
          4.29,
          4.12,
          4.1104,
          4.12,
          4.08,
          4.245,
          4.1108,
          4.26,
          4.136
         ]
        },
        {
         "name": "mkt_price",
         "type": "scatter",
         "x": [
          "2024-04-09T00:00:00",
          "2024-04-10T00:00:00",
          "2024-04-11T00:00:00",
          "2024-04-12T00:00:00",
          "2024-04-15T00:00:00",
          "2024-04-16T00:00:00",
          "2024-04-17T00:00:00",
          "2024-04-18T00:00:00",
          "2024-04-19T00:00:00",
          "2024-04-22T00:00:00",
          "2024-04-23T00:00:00",
          "2024-04-24T00:00:00",
          "2024-04-25T00:00:00",
          "2024-04-26T00:00:00",
          "2024-04-29T00:00:00",
          "2024-04-30T00:00:00",
          "2024-05-01T00:00:00",
          "2024-05-02T00:00:00",
          "2024-05-03T00:00:00",
          "2024-05-06T00:00:00",
          "2024-05-07T00:00:00",
          "2024-05-08T00:00:00",
          "2024-05-09T00:00:00",
          "2024-05-10T00:00:00",
          "2024-05-13T00:00:00",
          "2024-05-14T00:00:00",
          "2024-05-15T00:00:00",
          "2024-05-16T00:00:00",
          "2024-05-17T00:00:00",
          "2024-05-20T00:00:00",
          "2024-05-21T00:00:00",
          "2024-05-22T00:00:00",
          "2024-05-23T00:00:00",
          "2024-05-24T00:00:00",
          "2024-05-27T00:00:00",
          "2024-05-28T00:00:00",
          "2024-05-29T00:00:00",
          "2024-05-30T00:00:00",
          "2024-05-31T00:00:00",
          "2024-06-03T00:00:00",
          "2024-06-04T00:00:00",
          "2024-06-05T00:00:00",
          "2024-06-06T00:00:00",
          "2024-06-07T00:00:00",
          "2024-06-10T00:00:00",
          "2024-06-11T00:00:00",
          "2024-06-12T00:00:00",
          "2024-06-13T00:00:00",
          "2024-06-14T00:00:00",
          "2024-06-17T00:00:00",
          "2024-06-18T00:00:00",
          "2024-06-19T00:00:00",
          "2024-06-20T00:00:00",
          "2024-06-21T00:00:00",
          "2024-06-24T00:00:00",
          "2024-06-25T00:00:00",
          "2024-06-26T00:00:00",
          "2024-06-27T00:00:00",
          "2024-06-28T00:00:00",
          "2024-07-01T00:00:00",
          "2024-07-02T00:00:00",
          "2024-07-03T00:00:00",
          "2024-07-04T00:00:00",
          "2024-07-05T00:00:00",
          "2024-07-08T00:00:00",
          "2024-07-09T00:00:00",
          "2024-07-10T00:00:00",
          "2024-07-11T00:00:00",
          "2024-07-12T00:00:00",
          "2024-07-15T00:00:00",
          "2024-07-16T00:00:00",
          "2024-07-17T00:00:00",
          "2024-07-18T00:00:00",
          "2024-07-19T00:00:00",
          "2024-07-22T00:00:00",
          "2024-07-23T00:00:00",
          "2024-07-24T00:00:00",
          "2024-07-25T00:00:00",
          "2024-07-26T00:00:00",
          "2024-07-29T00:00:00"
         ],
         "y": [
          5.04,
          5,
          4.97,
          4.815,
          4.75,
          4.5,
          4.5,
          4.33,
          4.12,
          4.35,
          4.41,
          4.47,
          4.45,
          4.605,
          4.8,
          5.04,
          4.85,
          4.94,
          5.06,
          5.11,
          5.082,
          5.05,
          5.01,
          5.06,
          5.15,
          4.76,
          4.75,
          4.75,
          4.7104,
          4.66,
          4.8,
          4.79,
          4.66,
          4.77,
          4.77,
          4.73,
          4.66,
          4.65,
          4.5,
          4.535,
          4.51,
          4.5,
          4.335,
          4.32,
          4.34,
          4.33,
          4.445,
          4.3,
          4.38,
          4.48,
          4.7,
          4.7,
          4.62,
          4.82,
          4.58,
          4.66,
          4.515,
          4.445,
          4.705,
          4.835,
          4.505,
          4.599,
          4.599,
          4.51,
          4.54,
          4.64,
          4.68,
          4.55,
          4.64,
          4.48,
          4.37,
          4.29,
          4.12,
          4.1104,
          4.12,
          4.08,
          4.245,
          4.1108,
          4.26,
          4.136
         ]
        },
        {
         "name": "open MA 3",
         "type": "scatter",
         "x": [
          "2024-04-09T00:00:00",
          "2024-04-10T00:00:00",
          "2024-04-11T00:00:00",
          "2024-04-12T00:00:00",
          "2024-04-15T00:00:00",
          "2024-04-16T00:00:00",
          "2024-04-17T00:00:00",
          "2024-04-18T00:00:00",
          "2024-04-19T00:00:00",
          "2024-04-22T00:00:00",
          "2024-04-23T00:00:00",
          "2024-04-24T00:00:00",
          "2024-04-25T00:00:00",
          "2024-04-26T00:00:00",
          "2024-04-29T00:00:00",
          "2024-04-30T00:00:00",
          "2024-05-01T00:00:00",
          "2024-05-02T00:00:00",
          "2024-05-03T00:00:00",
          "2024-05-06T00:00:00",
          "2024-05-07T00:00:00",
          "2024-05-08T00:00:00",
          "2024-05-09T00:00:00",
          "2024-05-10T00:00:00",
          "2024-05-13T00:00:00",
          "2024-05-14T00:00:00",
          "2024-05-15T00:00:00",
          "2024-05-16T00:00:00",
          "2024-05-17T00:00:00",
          "2024-05-20T00:00:00",
          "2024-05-21T00:00:00",
          "2024-05-22T00:00:00",
          "2024-05-23T00:00:00",
          "2024-05-24T00:00:00",
          "2024-05-27T00:00:00",
          "2024-05-28T00:00:00",
          "2024-05-29T00:00:00",
          "2024-05-30T00:00:00",
          "2024-05-31T00:00:00",
          "2024-06-03T00:00:00",
          "2024-06-04T00:00:00",
          "2024-06-05T00:00:00",
          "2024-06-06T00:00:00",
          "2024-06-07T00:00:00",
          "2024-06-10T00:00:00",
          "2024-06-11T00:00:00",
          "2024-06-12T00:00:00",
          "2024-06-13T00:00:00",
          "2024-06-14T00:00:00",
          "2024-06-17T00:00:00",
          "2024-06-18T00:00:00",
          "2024-06-19T00:00:00",
          "2024-06-20T00:00:00",
          "2024-06-21T00:00:00",
          "2024-06-24T00:00:00",
          "2024-06-25T00:00:00",
          "2024-06-26T00:00:00",
          "2024-06-27T00:00:00",
          "2024-06-28T00:00:00",
          "2024-07-01T00:00:00",
          "2024-07-02T00:00:00",
          "2024-07-03T00:00:00",
          "2024-07-04T00:00:00",
          "2024-07-05T00:00:00",
          "2024-07-08T00:00:00",
          "2024-07-09T00:00:00",
          "2024-07-10T00:00:00",
          "2024-07-11T00:00:00",
          "2024-07-12T00:00:00",
          "2024-07-15T00:00:00",
          "2024-07-16T00:00:00",
          "2024-07-17T00:00:00",
          "2024-07-18T00:00:00",
          "2024-07-19T00:00:00",
          "2024-07-22T00:00:00",
          "2024-07-23T00:00:00",
          "2024-07-24T00:00:00",
          "2024-07-25T00:00:00",
          "2024-07-26T00:00:00",
          "2024-07-29T00:00:00"
         ],
         "y": [
          5.14,
          5.056666666666667,
          5.003333333333333,
          4.928333333333334,
          4.845,
          4.6883333333333335,
          4.583333333333333,
          4.443333333333333,
          4.316666666666666,
          4.266666666666667,
          4.293333333333333,
          4.41,
          4.4433333333333325,
          4.508333333333334,
          4.618333333333333,
          4.815,
          4.8966666666666665,
          4.943333333333334,
          4.949999999999999,
          5.036666666666666,
          5.084,
          5.080666666666667,
          5.0473333333333334,
          5.039999999999999,
          5.073333333333333,
          4.99,
          4.886666666666667,
          4.753333333333333,
          4.7368,
          4.7068,
          4.723466666666667,
          4.75,
          4.75,
          4.739999999999999,
          4.733333333333333,
          4.756666666666667,
          4.72,
          4.680000000000001,
          4.6033333333333335,
          4.5616666666666665,
          4.515,
          4.515,
          4.448333333333333,
          4.385000000000001,
          4.331666666666667,
          4.33,
          4.371666666666667,
          4.358333333333333,
          4.375,
          4.386666666666667,
          4.52,
          4.626666666666666,
          4.673333333333333,
          4.713333333333334,
          4.673333333333334,
          4.6866666666666665,
          4.585,
          4.54,
          4.555000000000001,
          4.661666666666666,
          4.681666666666666,
          4.646333333333334,
          4.567666666666667,
          4.569333333333334,
          4.549666666666667,
          4.5633333333333335,
          4.62,
          4.623333333333334,
          4.623333333333334,
          4.556666666666667,
          4.496666666666667,
          4.38,
          4.260000000000001,
          4.173466666666667,
          4.1168000000000005,
          4.103466666666667,
          4.148333333333333,
          4.145266666666667,
          4.205266666666667,
          4.1689333333333325
         ]
        },
        {
         "mode": "markers",
         "name": "Buy",
         "type": "scatter",
         "x": [
          "2024-04-22T00:00:00",
          "2024-05-03T00:00:00",
          "2024-05-10T00:00:00",
          "2024-05-21T00:00:00",
          "2024-05-24T00:00:00",
          "2024-06-10T00:00:00",
          "2024-06-14T00:00:00",
          "2024-06-21T00:00:00",
          "2024-06-28T00:00:00",
          "2024-07-04T00:00:00",
          "2024-07-09T00:00:00",
          "2024-07-12T00:00:00",
          "2024-07-22T00:00:00",
          "2024-07-24T00:00:00",
          "2024-07-26T00:00:00"
         ],
         "y": [
          4.35,
          5.06,
          5.06,
          4.8,
          4.77,
          4.34,
          4.38,
          4.82,
          4.705,
          4.599,
          4.64,
          4.64,
          4.12,
          4.245,
          4.26
         ]
        },
        {
         "mode": "markers",
         "name": "Sell",
         "type": "scatter",
         "x": [
          "2024-05-01T00:00:00",
          "2024-05-07T00:00:00",
          "2024-05-14T00:00:00",
          "2024-05-23T00:00:00",
          "2024-05-28T00:00:00",
          "2024-06-13T00:00:00",
          "2024-06-20T00:00:00",
          "2024-06-24T00:00:00",
          "2024-07-02T00:00:00",
          "2024-07-05T00:00:00",
          "2024-07-11T00:00:00",
          "2024-07-15T00:00:00",
          "2024-07-23T00:00:00",
          "2024-07-25T00:00:00",
          "2024-07-29T00:00:00"
         ],
         "y": [
          4.85,
          5.082,
          4.76,
          4.66,
          4.73,
          4.3,
          4.62,
          4.58,
          4.505,
          4.51,
          4.55,
          4.48,
          4.08,
          4.1108,
          4.136
         ]
        }
       ],
       "layout": {
        "autosize": true,
        "template": {
         "data": {
          "bar": [
           {
            "error_x": {
             "color": "#2a3f5f"
            },
            "error_y": {
             "color": "#2a3f5f"
            },
            "marker": {
             "line": {
              "color": "#E5ECF6",
              "width": 0.5
             },
             "pattern": {
              "fillmode": "overlay",
              "size": 10,
              "solidity": 0.2
             }
            },
            "type": "bar"
           }
          ],
          "barpolar": [
           {
            "marker": {
             "line": {
              "color": "#E5ECF6",
              "width": 0.5
             },
             "pattern": {
              "fillmode": "overlay",
              "size": 10,
              "solidity": 0.2
             }
            },
            "type": "barpolar"
           }
          ],
          "carpet": [
           {
            "aaxis": {
             "endlinecolor": "#2a3f5f",
             "gridcolor": "white",
             "linecolor": "white",
             "minorgridcolor": "white",
             "startlinecolor": "#2a3f5f"
            },
            "baxis": {
             "endlinecolor": "#2a3f5f",
             "gridcolor": "white",
             "linecolor": "white",
             "minorgridcolor": "white",
             "startlinecolor": "#2a3f5f"
            },
            "type": "carpet"
           }
          ],
          "choropleth": [
           {
            "colorbar": {
             "outlinewidth": 0,
             "ticks": ""
            },
            "type": "choropleth"
           }
          ],
          "contour": [
           {
            "colorbar": {
             "outlinewidth": 0,
             "ticks": ""
            },
            "colorscale": [
             [
              0,
              "#0d0887"
             ],
             [
              0.1111111111111111,
              "#46039f"
             ],
             [
              0.2222222222222222,
              "#7201a8"
             ],
             [
              0.3333333333333333,
              "#9c179e"
             ],
             [
              0.4444444444444444,
              "#bd3786"
             ],
             [
              0.5555555555555556,
              "#d8576b"
             ],
             [
              0.6666666666666666,
              "#ed7953"
             ],
             [
              0.7777777777777778,
              "#fb9f3a"
             ],
             [
              0.8888888888888888,
              "#fdca26"
             ],
             [
              1,
              "#f0f921"
             ]
            ],
            "type": "contour"
           }
          ],
          "contourcarpet": [
           {
            "colorbar": {
             "outlinewidth": 0,
             "ticks": ""
            },
            "type": "contourcarpet"
           }
          ],
          "heatmap": [
           {
            "colorbar": {
             "outlinewidth": 0,
             "ticks": ""
            },
            "colorscale": [
             [
              0,
              "#0d0887"
             ],
             [
              0.1111111111111111,
              "#46039f"
             ],
             [
              0.2222222222222222,
              "#7201a8"
             ],
             [
              0.3333333333333333,
              "#9c179e"
             ],
             [
              0.4444444444444444,
              "#bd3786"
             ],
             [
              0.5555555555555556,
              "#d8576b"
             ],
             [
              0.6666666666666666,
              "#ed7953"
             ],
             [
              0.7777777777777778,
              "#fb9f3a"
             ],
             [
              0.8888888888888888,
              "#fdca26"
             ],
             [
              1,
              "#f0f921"
             ]
            ],
            "type": "heatmap"
           }
          ],
          "heatmapgl": [
           {
            "colorbar": {
             "outlinewidth": 0,
             "ticks": ""
            },
            "colorscale": [
             [
              0,
              "#0d0887"
             ],
             [
              0.1111111111111111,
              "#46039f"
             ],
             [
              0.2222222222222222,
              "#7201a8"
             ],
             [
              0.3333333333333333,
              "#9c179e"
             ],
             [
              0.4444444444444444,
              "#bd3786"
             ],
             [
              0.5555555555555556,
              "#d8576b"
             ],
             [
              0.6666666666666666,
              "#ed7953"
             ],
             [
              0.7777777777777778,
              "#fb9f3a"
             ],
             [
              0.8888888888888888,
              "#fdca26"
             ],
             [
              1,
              "#f0f921"
             ]
            ],
            "type": "heatmapgl"
           }
          ],
          "histogram": [
           {
            "marker": {
             "pattern": {
              "fillmode": "overlay",
              "size": 10,
              "solidity": 0.2
             }
            },
            "type": "histogram"
           }
          ],
          "histogram2d": [
           {
            "colorbar": {
             "outlinewidth": 0,
             "ticks": ""
            },
            "colorscale": [
             [
              0,
              "#0d0887"
             ],
             [
              0.1111111111111111,
              "#46039f"
             ],
             [
              0.2222222222222222,
              "#7201a8"
             ],
             [
              0.3333333333333333,
              "#9c179e"
             ],
             [
              0.4444444444444444,
              "#bd3786"
             ],
             [
              0.5555555555555556,
              "#d8576b"
             ],
             [
              0.6666666666666666,
              "#ed7953"
             ],
             [
              0.7777777777777778,
              "#fb9f3a"
             ],
             [
              0.8888888888888888,
              "#fdca26"
             ],
             [
              1,
              "#f0f921"
             ]
            ],
            "type": "histogram2d"
           }
          ],
          "histogram2dcontour": [
           {
            "colorbar": {
             "outlinewidth": 0,
             "ticks": ""
            },
            "colorscale": [
             [
              0,
              "#0d0887"
             ],
             [
              0.1111111111111111,
              "#46039f"
             ],
             [
              0.2222222222222222,
              "#7201a8"
             ],
             [
              0.3333333333333333,
              "#9c179e"
             ],
             [
              0.4444444444444444,
              "#bd3786"
             ],
             [
              0.5555555555555556,
              "#d8576b"
             ],
             [
              0.6666666666666666,
              "#ed7953"
             ],
             [
              0.7777777777777778,
              "#fb9f3a"
             ],
             [
              0.8888888888888888,
              "#fdca26"
             ],
             [
              1,
              "#f0f921"
             ]
            ],
            "type": "histogram2dcontour"
           }
          ],
          "mesh3d": [
           {
            "colorbar": {
             "outlinewidth": 0,
             "ticks": ""
            },
            "type": "mesh3d"
           }
          ],
          "parcoords": [
           {
            "line": {
             "colorbar": {
              "outlinewidth": 0,
              "ticks": ""
             }
            },
            "type": "parcoords"
           }
          ],
          "pie": [
           {
            "automargin": true,
            "type": "pie"
           }
          ],
          "scatter": [
           {
            "fillpattern": {
             "fillmode": "overlay",
             "size": 10,
             "solidity": 0.2
            },
            "type": "scatter"
           }
          ],
          "scatter3d": [
           {
            "line": {
             "colorbar": {
              "outlinewidth": 0,
              "ticks": ""
             }
            },
            "marker": {
             "colorbar": {
              "outlinewidth": 0,
              "ticks": ""
             }
            },
            "type": "scatter3d"
           }
          ],
          "scattercarpet": [
           {
            "marker": {
             "colorbar": {
              "outlinewidth": 0,
              "ticks": ""
             }
            },
            "type": "scattercarpet"
           }
          ],
          "scattergeo": [
           {
            "marker": {
             "colorbar": {
              "outlinewidth": 0,
              "ticks": ""
             }
            },
            "type": "scattergeo"
           }
          ],
          "scattergl": [
           {
            "marker": {
             "colorbar": {
              "outlinewidth": 0,
              "ticks": ""
             }
            },
            "type": "scattergl"
           }
          ],
          "scattermapbox": [
           {
            "marker": {
             "colorbar": {
              "outlinewidth": 0,
              "ticks": ""
             }
            },
            "type": "scattermapbox"
           }
          ],
          "scatterpolar": [
           {
            "marker": {
             "colorbar": {
              "outlinewidth": 0,
              "ticks": ""
             }
            },
            "type": "scatterpolar"
           }
          ],
          "scatterpolargl": [
           {
            "marker": {
             "colorbar": {
              "outlinewidth": 0,
              "ticks": ""
             }
            },
            "type": "scatterpolargl"
           }
          ],
          "scatterternary": [
           {
            "marker": {
             "colorbar": {
              "outlinewidth": 0,
              "ticks": ""
             }
            },
            "type": "scatterternary"
           }
          ],
          "surface": [
           {
            "colorbar": {
             "outlinewidth": 0,
             "ticks": ""
            },
            "colorscale": [
             [
              0,
              "#0d0887"
             ],
             [
              0.1111111111111111,
              "#46039f"
             ],
             [
              0.2222222222222222,
              "#7201a8"
             ],
             [
              0.3333333333333333,
              "#9c179e"
             ],
             [
              0.4444444444444444,
              "#bd3786"
             ],
             [
              0.5555555555555556,
              "#d8576b"
             ],
             [
              0.6666666666666666,
              "#ed7953"
             ],
             [
              0.7777777777777778,
              "#fb9f3a"
             ],
             [
              0.8888888888888888,
              "#fdca26"
             ],
             [
              1,
              "#f0f921"
             ]
            ],
            "type": "surface"
           }
          ],
          "table": [
           {
            "cells": {
             "fill": {
              "color": "#EBF0F8"
             },
             "line": {
              "color": "white"
             }
            },
            "header": {
             "fill": {
              "color": "#C8D4E3"
             },
             "line": {
              "color": "white"
             }
            },
            "type": "table"
           }
          ]
         },
         "layout": {
          "annotationdefaults": {
           "arrowcolor": "#2a3f5f",
           "arrowhead": 0,
           "arrowwidth": 1
          },
          "autotypenumbers": "strict",
          "coloraxis": {
           "colorbar": {
            "outlinewidth": 0,
            "ticks": ""
           }
          },
          "colorscale": {
           "diverging": [
            [
             0,
             "#8e0152"
            ],
            [
             0.1,
             "#c51b7d"
            ],
            [
             0.2,
             "#de77ae"
            ],
            [
             0.3,
             "#f1b6da"
            ],
            [
             0.4,
             "#fde0ef"
            ],
            [
             0.5,
             "#f7f7f7"
            ],
            [
             0.6,
             "#e6f5d0"
            ],
            [
             0.7,
             "#b8e186"
            ],
            [
             0.8,
             "#7fbc41"
            ],
            [
             0.9,
             "#4d9221"
            ],
            [
             1,
             "#276419"
            ]
           ],
           "sequential": [
            [
             0,
             "#0d0887"
            ],
            [
             0.1111111111111111,
             "#46039f"
            ],
            [
             0.2222222222222222,
             "#7201a8"
            ],
            [
             0.3333333333333333,
             "#9c179e"
            ],
            [
             0.4444444444444444,
             "#bd3786"
            ],
            [
             0.5555555555555556,
             "#d8576b"
            ],
            [
             0.6666666666666666,
             "#ed7953"
            ],
            [
             0.7777777777777778,
             "#fb9f3a"
            ],
            [
             0.8888888888888888,
             "#fdca26"
            ],
            [
             1,
             "#f0f921"
            ]
           ],
           "sequentialminus": [
            [
             0,
             "#0d0887"
            ],
            [
             0.1111111111111111,
             "#46039f"
            ],
            [
             0.2222222222222222,
             "#7201a8"
            ],
            [
             0.3333333333333333,
             "#9c179e"
            ],
            [
             0.4444444444444444,
             "#bd3786"
            ],
            [
             0.5555555555555556,
             "#d8576b"
            ],
            [
             0.6666666666666666,
             "#ed7953"
            ],
            [
             0.7777777777777778,
             "#fb9f3a"
            ],
            [
             0.8888888888888888,
             "#fdca26"
            ],
            [
             1,
             "#f0f921"
            ]
           ]
          },
          "colorway": [
           "#636efa",
           "#EF553B",
           "#00cc96",
           "#ab63fa",
           "#FFA15A",
           "#19d3f3",
           "#FF6692",
           "#B6E880",
           "#FF97FF",
           "#FECB52"
          ],
          "font": {
           "color": "#2a3f5f"
          },
          "geo": {
           "bgcolor": "white",
           "lakecolor": "white",
           "landcolor": "#E5ECF6",
           "showlakes": true,
           "showland": true,
           "subunitcolor": "white"
          },
          "hoverlabel": {
           "align": "left"
          },
          "hovermode": "closest",
          "mapbox": {
           "style": "light"
          },
          "paper_bgcolor": "white",
          "plot_bgcolor": "#E5ECF6",
          "polar": {
           "angularaxis": {
            "gridcolor": "white",
            "linecolor": "white",
            "ticks": ""
           },
           "bgcolor": "#E5ECF6",
           "radialaxis": {
            "gridcolor": "white",
            "linecolor": "white",
            "ticks": ""
           }
          },
          "scene": {
           "xaxis": {
            "backgroundcolor": "#E5ECF6",
            "gridcolor": "white",
            "gridwidth": 2,
            "linecolor": "white",
            "showbackground": true,
            "ticks": "",
            "zerolinecolor": "white"
           },
           "yaxis": {
            "backgroundcolor": "#E5ECF6",
            "gridcolor": "white",
            "gridwidth": 2,
            "linecolor": "white",
            "showbackground": true,
            "ticks": "",
            "zerolinecolor": "white"
           },
           "zaxis": {
            "backgroundcolor": "#E5ECF6",
            "gridcolor": "white",
            "gridwidth": 2,
            "linecolor": "white",
            "showbackground": true,
            "ticks": "",
            "zerolinecolor": "white"
           }
          },
          "shapedefaults": {
           "line": {
            "color": "#2a3f5f"
           }
          },
          "ternary": {
           "aaxis": {
            "gridcolor": "white",
            "linecolor": "white",
            "ticks": ""
           },
           "baxis": {
            "gridcolor": "white",
            "linecolor": "white",
            "ticks": ""
           },
           "bgcolor": "#E5ECF6",
           "caxis": {
            "gridcolor": "white",
            "linecolor": "white",
            "ticks": ""
           }
          },
          "title": {
           "x": 0.05
          },
          "xaxis": {
           "automargin": true,
           "gridcolor": "white",
           "linecolor": "white",
           "ticks": "",
           "title": {
            "standoff": 15
           },
           "zerolinecolor": "white",
           "zerolinewidth": 2
          },
          "yaxis": {
           "automargin": true,
           "gridcolor": "white",
           "linecolor": "white",
           "ticks": "",
           "title": {
            "standoff": 15
           },
           "zerolinecolor": "white",
           "zerolinewidth": 2
          }
         }
        },
        "xaxis": {
         "autorange": true,
         "range": [
          "2024-04-09",
          "2024-08-04 08:47:18.4905"
         ],
         "type": "date"
        },
        "yaxis": {
         "autorange": true,
         "range": [
          3.993791469194313,
          5.210853080568721
         ],
         "type": "linear"
        }
       }
      },
      "image/png": "[encoded data removed]",
      "text/html": [
       "<div>                            <div id=\"1b834aab-5141-4715-bc4e-49e8c2cb50a4\" class=\"plotly-graph-div\" style=\"height:525px; width:100%;\"></div>            <script type=\"text/javascript\">                require([\"plotly\"], function(Plotly) {                    window.PLOTLYENV=window.PLOTLYENV || {};                                    if (document.getElementById(\"1b834aab-5141-4715-bc4e-49e8c2cb50a4\")) {                    Plotly.newPlot(                        \"1b834aab-5141-4715-bc4e-49e8c2cb50a4\",                        [{\"name\":\"mkt_price\",\"x\":[\"2024-04-09T00:00:00\",\"2024-04-10T00:00:00\",\"2024-04-11T00:00:00\",\"2024-04-12T00:00:00\",\"2024-04-15T00:00:00\",\"2024-04-16T00:00:00\",\"2024-04-17T00:00:00\",\"2024-04-18T00:00:00\",\"2024-04-19T00:00:00\",\"2024-04-22T00:00:00\",\"2024-04-23T00:00:00\",\"2024-04-24T00:00:00\",\"2024-04-25T00:00:00\",\"2024-04-26T00:00:00\",\"2024-04-29T00:00:00\",\"2024-04-30T00:00:00\",\"2024-05-01T00:00:00\",\"2024-05-02T00:00:00\",\"2024-05-03T00:00:00\",\"2024-05-06T00:00:00\",\"2024-05-07T00:00:00\",\"2024-05-08T00:00:00\",\"2024-05-09T00:00:00\",\"2024-05-10T00:00:00\",\"2024-05-13T00:00:00\",\"2024-05-14T00:00:00\",\"2024-05-15T00:00:00\",\"2024-05-16T00:00:00\",\"2024-05-17T00:00:00\",\"2024-05-20T00:00:00\",\"2024-05-21T00:00:00\",\"2024-05-22T00:00:00\",\"2024-05-23T00:00:00\",\"2024-05-24T00:00:00\",\"2024-05-27T00:00:00\",\"2024-05-28T00:00:00\",\"2024-05-29T00:00:00\",\"2024-05-30T00:00:00\",\"2024-05-31T00:00:00\",\"2024-06-03T00:00:00\",\"2024-06-04T00:00:00\",\"2024-06-05T00:00:00\",\"2024-06-06T00:00:00\",\"2024-06-07T00:00:00\",\"2024-06-10T00:00:00\",\"2024-06-11T00:00:00\",\"2024-06-12T00:00:00\",\"2024-06-13T00:00:00\",\"2024-06-14T00:00:00\",\"2024-06-17T00:00:00\",\"2024-06-18T00:00:00\",\"2024-06-19T00:00:00\",\"2024-06-20T00:00:00\",\"2024-06-21T00:00:00\",\"2024-06-24T00:00:00\",\"2024-06-25T00:00:00\",\"2024-06-26T00:00:00\",\"2024-06-27T00:00:00\",\"2024-06-28T00:00:00\",\"2024-07-01T00:00:00\",\"2024-07-02T00:00:00\",\"2024-07-03T00:00:00\",\"2024-07-04T00:00:00\",\"2024-07-05T00:00:00\",\"2024-07-08T00:00:00\",\"2024-07-09T00:00:00\",\"2024-07-10T00:00:00\",\"2024-07-11T00:00:00\",\"2024-07-12T00:00:00\",\"2024-07-15T00:00:00\",\"2024-07-16T00:00:00\",\"2024-07-17T00:00:00\",\"2024-07-18T00:00:00\",\"2024-07-19T00:00:00\",\"2024-07-22T00:00:00\",\"2024-07-23T00:00:00\",\"2024-07-24T00:00:00\",\"2024-07-25T00:00:00\",\"2024-07-26T00:00:00\",\"2024-07-29T00:00:00\"],\"y\":[5.04,5.0,4.97,4.815,4.75,4.5,4.5,4.33,4.12,4.35,4.41,4.47,4.45,4.605,4.8,5.04,4.85,4.94,5.06,5.11,5.082,5.05,5.01,5.06,5.15,4.76,4.75,4.75,4.7104,4.66,4.8,4.79,4.66,4.77,4.77,4.73,4.66,4.65,4.5,4.535,4.51,4.5,4.335,4.32,4.34,4.33,4.445,4.3,4.38,4.48,4.7,4.7,4.62,4.82,4.58,4.66,4.515,4.445,4.705,4.835,4.505,4.599,4.599,4.51,4.54,4.64,4.68,4.55,4.64,4.48,4.37,4.29,4.12,4.1104,4.12,4.08,4.245,4.1108,4.26,4.136],\"type\":\"scatter\"},{\"name\":\"mkt_price\",\"x\":[\"2024-04-09T00:00:00\",\"2024-04-10T00:00:00\",\"2024-04-11T00:00:00\",\"2024-04-12T00:00:00\",\"2024-04-15T00:00:00\",\"2024-04-16T00:00:00\",\"2024-04-17T00:00:00\",\"2024-04-18T00:00:00\",\"2024-04-19T00:00:00\",\"2024-04-22T00:00:00\",\"2024-04-23T00:00:00\",\"2024-04-24T00:00:00\",\"2024-04-25T00:00:00\",\"2024-04-26T00:00:00\",\"2024-04-29T00:00:00\",\"2024-04-30T00:00:00\",\"2024-05-01T00:00:00\",\"2024-05-02T00:00:00\",\"2024-05-03T00:00:00\",\"2024-05-06T00:00:00\",\"2024-05-07T00:00:00\",\"2024-05-08T00:00:00\",\"2024-05-09T00:00:00\",\"2024-05-10T00:00:00\",\"2024-05-13T00:00:00\",\"2024-05-14T00:00:00\",\"2024-05-15T00:00:00\",\"2024-05-16T00:00:00\",\"2024-05-17T00:00:00\",\"2024-05-20T00:00:00\",\"2024-05-21T00:00:00\",\"2024-05-22T00:00:00\",\"2024-05-23T00:00:00\",\"2024-05-24T00:00:00\",\"2024-05-27T00:00:00\",\"2024-05-28T00:00:00\",\"2024-05-29T00:00:00\",\"2024-05-30T00:00:00\",\"2024-05-31T00:00:00\",\"2024-06-03T00:00:00\",\"2024-06-04T00:00:00\",\"2024-06-05T00:00:00\",\"2024-06-06T00:00:00\",\"2024-06-07T00:00:00\",\"2024-06-10T00:00:00\",\"2024-06-11T00:00:00\",\"2024-06-12T00:00:00\",\"2024-06-13T00:00:00\",\"2024-06-14T00:00:00\",\"2024-06-17T00:00:00\",\"2024-06-18T00:00:00\",\"2024-06-19T00:00:00\",\"2024-06-20T00:00:00\",\"2024-06-21T00:00:00\",\"2024-06-24T00:00:00\",\"2024-06-25T00:00:00\",\"2024-06-26T00:00:00\",\"2024-06-27T00:00:00\",\"2024-06-28T00:00:00\",\"2024-07-01T00:00:00\",\"2024-07-02T00:00:00\",\"2024-07-03T00:00:00\",\"2024-07-04T00:00:00\",\"2024-07-05T00:00:00\",\"2024-07-08T00:00:00\",\"2024-07-09T00:00:00\",\"2024-07-10T00:00:00\",\"2024-07-11T00:00:00\",\"2024-07-12T00:00:00\",\"2024-07-15T00:00:00\",\"2024-07-16T00:00:00\",\"2024-07-17T00:00:00\",\"2024-07-18T00:00:00\",\"2024-07-19T00:00:00\",\"2024-07-22T00:00:00\",\"2024-07-23T00:00:00\",\"2024-07-24T00:00:00\",\"2024-07-25T00:00:00\",\"2024-07-26T00:00:00\",\"2024-07-29T00:00:00\"],\"y\":[5.04,5.0,4.97,4.815,4.75,4.5,4.5,4.33,4.12,4.35,4.41,4.47,4.45,4.605,4.8,5.04,4.85,4.94,5.06,5.11,5.082,5.05,5.01,5.06,5.15,4.76,4.75,4.75,4.7104,4.66,4.8,4.79,4.66,4.77,4.77,4.73,4.66,4.65,4.5,4.535,4.51,4.5,4.335,4.32,4.34,4.33,4.445,4.3,4.38,4.48,4.7,4.7,4.62,4.82,4.58,4.66,4.515,4.445,4.705,4.835,4.505,4.599,4.599,4.51,4.54,4.64,4.68,4.55,4.64,4.48,4.37,4.29,4.12,4.1104,4.12,4.08,4.245,4.1108,4.26,4.136],\"type\":\"scatter\"},{\"name\":\"open MA 3\",\"x\":[\"2024-04-09T00:00:00\",\"2024-04-10T00:00:00\",\"2024-04-11T00:00:00\",\"2024-04-12T00:00:00\",\"2024-04-15T00:00:00\",\"2024-04-16T00:00:00\",\"2024-04-17T00:00:00\",\"2024-04-18T00:00:00\",\"2024-04-19T00:00:00\",\"2024-04-22T00:00:00\",\"2024-04-23T00:00:00\",\"2024-04-24T00:00:00\",\"2024-04-25T00:00:00\",\"2024-04-26T00:00:00\",\"2024-04-29T00:00:00\",\"2024-04-30T00:00:00\",\"2024-05-01T00:00:00\",\"2024-05-02T00:00:00\",\"2024-05-03T00:00:00\",\"2024-05-06T00:00:00\",\"2024-05-07T00:00:00\",\"2024-05-08T00:00:00\",\"2024-05-09T00:00:00\",\"2024-05-10T00:00:00\",\"2024-05-13T00:00:00\",\"2024-05-14T00:00:00\",\"2024-05-15T00:00:00\",\"2024-05-16T00:00:00\",\"2024-05-17T00:00:00\",\"2024-05-20T00:00:00\",\"2024-05-21T00:00:00\",\"2024-05-22T00:00:00\",\"2024-05-23T00:00:00\",\"2024-05-24T00:00:00\",\"2024-05-27T00:00:00\",\"2024-05-28T00:00:00\",\"2024-05-29T00:00:00\",\"2024-05-30T00:00:00\",\"2024-05-31T00:00:00\",\"2024-06-03T00:00:00\",\"2024-06-04T00:00:00\",\"2024-06-05T00:00:00\",\"2024-06-06T00:00:00\",\"2024-06-07T00:00:00\",\"2024-06-10T00:00:00\",\"2024-06-11T00:00:00\",\"2024-06-12T00:00:00\",\"2024-06-13T00:00:00\",\"2024-06-14T00:00:00\",\"2024-06-17T00:00:00\",\"2024-06-18T00:00:00\",\"2024-06-19T00:00:00\",\"2024-06-20T00:00:00\",\"2024-06-21T00:00:00\",\"2024-06-24T00:00:00\",\"2024-06-25T00:00:00\",\"2024-06-26T00:00:00\",\"2024-06-27T00:00:00\",\"2024-06-28T00:00:00\",\"2024-07-01T00:00:00\",\"2024-07-02T00:00:00\",\"2024-07-03T00:00:00\",\"2024-07-04T00:00:00\",\"2024-07-05T00:00:00\",\"2024-07-08T00:00:00\",\"2024-07-09T00:00:00\",\"2024-07-10T00:00:00\",\"2024-07-11T00:00:00\",\"2024-07-12T00:00:00\",\"2024-07-15T00:00:00\",\"2024-07-16T00:00:00\",\"2024-07-17T00:00:00\",\"2024-07-18T00:00:00\",\"2024-07-19T00:00:00\",\"2024-07-22T00:00:00\",\"2024-07-23T00:00:00\",\"2024-07-24T00:00:00\",\"2024-07-25T00:00:00\",\"2024-07-26T00:00:00\",\"2024-07-29T00:00:00\"],\"y\":[5.14,5.056666666666667,5.003333333333333,4.928333333333334,4.845,4.6883333333333335,4.583333333333333,4.443333333333333,4.316666666666666,4.266666666666667,4.293333333333333,4.41,4.4433333333333325,4.508333333333334,4.618333333333333,4.815,4.8966666666666665,4.943333333333334,4.949999999999999,5.036666666666666,5.084,5.080666666666667,5.0473333333333334,5.039999999999999,5.073333333333333,4.99,4.886666666666667,4.753333333333333,4.7368,4.7068,4.723466666666667,4.75,4.75,4.739999999999999,4.733333333333333,4.756666666666667,4.72,4.680000000000001,4.6033333333333335,4.5616666666666665,4.515,4.515,4.448333333333333,4.385000000000001,4.331666666666667,4.33,4.371666666666667,4.358333333333333,4.375,4.386666666666667,4.52,4.626666666666666,4.673333333333333,4.713333333333334,4.673333333333334,4.6866666666666665,4.585,4.54,4.555000000000001,4.661666666666666,4.681666666666666,4.646333333333334,4.567666666666667,4.569333333333334,4.549666666666667,4.5633333333333335,4.62,4.623333333333334,4.623333333333334,4.556666666666667,4.496666666666667,4.38,4.260000000000001,4.173466666666667,4.1168000000000005,4.103466666666667,4.148333333333333,4.145266666666667,4.205266666666667,4.1689333333333325],\"type\":\"scatter\"},{\"mode\":\"markers\",\"name\":\"Buy\",\"x\":[\"2024-04-22T00:00:00\",\"2024-05-03T00:00:00\",\"2024-05-10T00:00:00\",\"2024-05-21T00:00:00\",\"2024-05-24T00:00:00\",\"2024-06-10T00:00:00\",\"2024-06-14T00:00:00\",\"2024-06-21T00:00:00\",\"2024-06-28T00:00:00\",\"2024-07-04T00:00:00\",\"2024-07-09T00:00:00\",\"2024-07-12T00:00:00\",\"2024-07-22T00:00:00\",\"2024-07-24T00:00:00\",\"2024-07-26T00:00:00\"],\"y\":[4.35,5.06,5.06,4.8,4.77,4.34,4.38,4.82,4.705,4.599,4.64,4.64,4.12,4.245,4.26],\"type\":\"scatter\"},{\"mode\":\"markers\",\"name\":\"Sell\",\"x\":[\"2024-05-01T00:00:00\",\"2024-05-07T00:00:00\",\"2024-05-14T00:00:00\",\"2024-05-23T00:00:00\",\"2024-05-28T00:00:00\",\"2024-06-13T00:00:00\",\"2024-06-20T00:00:00\",\"2024-06-24T00:00:00\",\"2024-07-02T00:00:00\",\"2024-07-05T00:00:00\",\"2024-07-11T00:00:00\",\"2024-07-15T00:00:00\",\"2024-07-23T00:00:00\",\"2024-07-25T00:00:00\",\"2024-07-29T00:00:00\"],\"y\":[4.85,5.082,4.76,4.66,4.73,4.3,4.62,4.58,4.505,4.51,4.55,4.48,4.08,4.1108,4.136],\"type\":\"scatter\"}],                        {\"template\":{\"data\":{\"histogram2dcontour\":[{\"type\":\"histogram2dcontour\",\"colorbar\":{\"outlinewidth\":0,\"ticks\":\"\"},\"colorscale\":[[0.0,\"#0d0887\"],[0.1111111111111111,\"#46039f\"],[0.2222222222222222,\"#7201a8\"],[0.3333333333333333,\"#9c179e\"],[0.4444444444444444,\"#bd3786\"],[0.5555555555555556,\"#d8576b\"],[0.6666666666666666,\"#ed7953\"],[0.7777777777777778,\"#fb9f3a\"],[0.8888888888888888,\"#fdca26\"],[1.0,\"#f0f921\"]]}],\"choropleth\":[{\"type\":\"choropleth\",\"colorbar\":{\"outlinewidth\":0,\"ticks\":\"\"}}],\"histogram2d\":[{\"type\":\"histogram2d\",\"colorbar\":{\"outlinewidth\":0,\"ticks\":\"\"},\"colorscale\":[[0.0,\"#0d0887\"],[0.1111111111111111,\"#46039f\"],[0.2222222222222222,\"#7201a8\"],[0.3333333333333333,\"#9c179e\"],[0.4444444444444444,\"#bd3786\"],[0.5555555555555556,\"#d8576b\"],[0.6666666666666666,\"#ed7953\"],[0.7777777777777778,\"#fb9f3a\"],[0.8888888888888888,\"#fdca26\"],[1.0,\"#f0f921\"]]}],\"heatmap\":[{\"type\":\"heatmap\",\"colorbar\":{\"outlinewidth\":0,\"ticks\":\"\"},\"colorscale\":[[0.0,\"#0d0887\"],[0.1111111111111111,\"#46039f\"],[0.2222222222222222,\"#7201a8\"],[0.3333333333333333,\"#9c179e\"],[0.4444444444444444,\"#bd3786\"],[0.5555555555555556,\"#d8576b\"],[0.6666666666666666,\"#ed7953\"],[0.7777777777777778,\"#fb9f3a\"],[0.8888888888888888,\"#fdca26\"],[1.0,\"#f0f921\"]]}],\"heatmapgl\":[{\"type\":\"heatmapgl\",\"colorbar\":{\"outlinewidth\":0,\"ticks\":\"\"},\"colorscale\":[[0.0,\"#0d0887\"],[0.1111111111111111,\"#46039f\"],[0.2222222222222222,\"#7201a8\"],[0.3333333333333333,\"#9c179e\"],[0.4444444444444444,\"#bd3786\"],[0.5555555555555556,\"#d8576b\"],[0.6666666666666666,\"#ed7953\"],[0.7777777777777778,\"#fb9f3a\"],[0.8888888888888888,\"#fdca26\"],[1.0,\"#f0f921\"]]}],\"contourcarpet\":[{\"type\":\"contourcarpet\",\"colorbar\":{\"outlinewidth\":0,\"ticks\":\"\"}}],\"contour\":[{\"type\":\"contour\",\"colorbar\":{\"outlinewidth\":0,\"ticks\":\"\"},\"colorscale\":[[0.0,\"#0d0887\"],[0.1111111111111111,\"#46039f\"],[0.2222222222222222,\"#7201a8\"],[0.3333333333333333,\"#9c179e\"],[0.4444444444444444,\"#bd3786\"],[0.5555555555555556,\"#d8576b\"],[0.6666666666666666,\"#ed7953\"],[0.7777777777777778,\"#fb9f3a\"],[0.8888888888888888,\"#fdca26\"],[1.0,\"#f0f921\"]]}],\"surface\":[{\"type\":\"surface\",\"colorbar\":{\"outlinewidth\":0,\"ticks\":\"\"},\"colorscale\":[[0.0,\"#0d0887\"],[0.1111111111111111,\"#46039f\"],[0.2222222222222222,\"#7201a8\"],[0.3333333333333333,\"#9c179e\"],[0.4444444444444444,\"#bd3786\"],[0.5555555555555556,\"#d8576b\"],[0.6666666666666666,\"#ed7953\"],[0.7777777777777778,\"#fb9f3a\"],[0.8888888888888888,\"#fdca26\"],[1.0,\"#f0f921\"]]}],\"mesh3d\":[{\"type\":\"mesh3d\",\"colorbar\":{\"outlinewidth\":0,\"ticks\":\"\"}}],\"scatter\":[{\"fillpattern\":{\"fillmode\":\"overlay\",\"size\":10,\"solidity\":0.2},\"type\":\"scatter\"}],\"parcoords\":[{\"type\":\"parcoords\",\"line\":{\"colorbar\":{\"outlinewidth\":0,\"ticks\":\"\"}}}],\"scatterpolargl\":[{\"type\":\"scatterpolargl\",\"marker\":{\"colorbar\":{\"outlinewidth\":0,\"ticks\":\"\"}}}],\"bar\":[{\"error_x\":{\"color\":\"#2a3f5f\"},\"error_y\":{\"color\":\"#2a3f5f\"},\"marker\":{\"line\":{\"color\":\"#E5ECF6\",\"width\":0.5},\"pattern\":{\"fillmode\":\"overlay\",\"size\":10,\"solidity\":0.2}},\"type\":\"bar\"}],\"scattergeo\":[{\"type\":\"scattergeo\",\"marker\":{\"colorbar\":{\"outlinewidth\":0,\"ticks\":\"\"}}}],\"scatterpolar\":[{\"type\":\"scatterpolar\",\"marker\":{\"colorbar\":{\"outlinewidth\":0,\"ticks\":\"\"}}}],\"histogram\":[{\"marker\":{\"pattern\":{\"fillmode\":\"overlay\",\"size\":10,\"solidity\":0.2}},\"type\":\"histogram\"}],\"scattergl\":[{\"type\":\"scattergl\",\"marker\":{\"colorbar\":{\"outlinewidth\":0,\"ticks\":\"\"}}}],\"scatter3d\":[{\"type\":\"scatter3d\",\"line\":{\"colorbar\":{\"outlinewidth\":0,\"ticks\":\"\"}},\"marker\":{\"colorbar\":{\"outlinewidth\":0,\"ticks\":\"\"}}}],\"scattermapbox\":[{\"type\":\"scattermapbox\",\"marker\":{\"colorbar\":{\"outlinewidth\":0,\"ticks\":\"\"}}}],\"scatterternary\":[{\"type\":\"scatterternary\",\"marker\":{\"colorbar\":{\"outlinewidth\":0,\"ticks\":\"\"}}}],\"scattercarpet\":[{\"type\":\"scattercarpet\",\"marker\":{\"colorbar\":{\"outlinewidth\":0,\"ticks\":\"\"}}}],\"carpet\":[{\"aaxis\":{\"endlinecolor\":\"#2a3f5f\",\"gridcolor\":\"white\",\"linecolor\":\"white\",\"minorgridcolor\":\"white\",\"startlinecolor\":\"#2a3f5f\"},\"baxis\":{\"endlinecolor\":\"#2a3f5f\",\"gridcolor\":\"white\",\"linecolor\":\"white\",\"minorgridcolor\":\"white\",\"startlinecolor\":\"#2a3f5f\"},\"type\":\"carpet\"}],\"table\":[{\"cells\":{\"fill\":{\"color\":\"#EBF0F8\"},\"line\":{\"color\":\"white\"}},\"header\":{\"fill\":{\"color\":\"#C8D4E3\"},\"line\":{\"color\":\"white\"}},\"type\":\"table\"}],\"barpolar\":[{\"marker\":{\"line\":{\"color\":\"#E5ECF6\",\"width\":0.5},\"pattern\":{\"fillmode\":\"overlay\",\"size\":10,\"solidity\":0.2}},\"type\":\"barpolar\"}],\"pie\":[{\"automargin\":true,\"type\":\"pie\"}]},\"layout\":{\"autotypenumbers\":\"strict\",\"colorway\":[\"#636efa\",\"#EF553B\",\"#00cc96\",\"#ab63fa\",\"#FFA15A\",\"#19d3f3\",\"#FF6692\",\"#B6E880\",\"#FF97FF\",\"#FECB52\"],\"font\":{\"color\":\"#2a3f5f\"},\"hovermode\":\"closest\",\"hoverlabel\":{\"align\":\"left\"},\"paper_bgcolor\":\"white\",\"plot_bgcolor\":\"#E5ECF6\",\"polar\":{\"bgcolor\":\"#E5ECF6\",\"angularaxis\":{\"gridcolor\":\"white\",\"linecolor\":\"white\",\"ticks\":\"\"},\"radialaxis\":{\"gridcolor\":\"white\",\"linecolor\":\"white\",\"ticks\":\"\"}},\"ternary\":{\"bgcolor\":\"#E5ECF6\",\"aaxis\":{\"gridcolor\":\"white\",\"linecolor\":\"white\",\"ticks\":\"\"},\"baxis\":{\"gridcolor\":\"white\",\"linecolor\":\"white\",\"ticks\":\"\"},\"caxis\":{\"gridcolor\":\"white\",\"linecolor\":\"white\",\"ticks\":\"\"}},\"coloraxis\":{\"colorbar\":{\"outlinewidth\":0,\"ticks\":\"\"}},\"colorscale\":{\"sequential\":[[0.0,\"#0d0887\"],[0.1111111111111111,\"#46039f\"],[0.2222222222222222,\"#7201a8\"],[0.3333333333333333,\"#9c179e\"],[0.4444444444444444,\"#bd3786\"],[0.5555555555555556,\"#d8576b\"],[0.6666666666666666,\"#ed7953\"],[0.7777777777777778,\"#fb9f3a\"],[0.8888888888888888,\"#fdca26\"],[1.0,\"#f0f921\"]],\"sequentialminus\":[[0.0,\"#0d0887\"],[0.1111111111111111,\"#46039f\"],[0.2222222222222222,\"#7201a8\"],[0.3333333333333333,\"#9c179e\"],[0.4444444444444444,\"#bd3786\"],[0.5555555555555556,\"#d8576b\"],[0.6666666666666666,\"#ed7953\"],[0.7777777777777778,\"#fb9f3a\"],[0.8888888888888888,\"#fdca26\"],[1.0,\"#f0f921\"]],\"diverging\":[[0,\"#8e0152\"],[0.1,\"#c51b7d\"],[0.2,\"#de77ae\"],[0.3,\"#f1b6da\"],[0.4,\"#fde0ef\"],[0.5,\"#f7f7f7\"],[0.6,\"#e6f5d0\"],[0.7,\"#b8e186\"],[0.8,\"#7fbc41\"],[0.9,\"#4d9221\"],[1,\"#276419\"]]},\"xaxis\":{\"gridcolor\":\"white\",\"linecolor\":\"white\",\"ticks\":\"\",\"title\":{\"standoff\":15},\"zerolinecolor\":\"white\",\"automargin\":true,\"zerolinewidth\":2},\"yaxis\":{\"gridcolor\":\"white\",\"linecolor\":\"white\",\"ticks\":\"\",\"title\":{\"standoff\":15},\"zerolinecolor\":\"white\",\"automargin\":true,\"zerolinewidth\":2},\"scene\":{\"xaxis\":{\"backgroundcolor\":\"#E5ECF6\",\"gridcolor\":\"white\",\"linecolor\":\"white\",\"showbackground\":true,\"ticks\":\"\",\"zerolinecolor\":\"white\",\"gridwidth\":2},\"yaxis\":{\"backgroundcolor\":\"#E5ECF6\",\"gridcolor\":\"white\",\"linecolor\":\"white\",\"showbackground\":true,\"ticks\":\"\",\"zerolinecolor\":\"white\",\"gridwidth\":2},\"zaxis\":{\"backgroundcolor\":\"#E5ECF6\",\"gridcolor\":\"white\",\"linecolor\":\"white\",\"showbackground\":true,\"ticks\":\"\",\"zerolinecolor\":\"white\",\"gridwidth\":2}},\"shapedefaults\":{\"line\":{\"color\":\"#2a3f5f\"}},\"annotationdefaults\":{\"arrowcolor\":\"#2a3f5f\",\"arrowhead\":0,\"arrowwidth\":1},\"geo\":{\"bgcolor\":\"white\",\"landcolor\":\"#E5ECF6\",\"subunitcolor\":\"white\",\"showland\":true,\"showlakes\":true,\"lakecolor\":\"white\"},\"title\":{\"x\":0.05},\"mapbox\":{\"style\":\"light\"}}}},                        {\"responsive\": true}                    ).then(function(){\n",
       "                            \n",
       "var gd = document.getElementById('1b834aab-5141-4715-bc4e-49e8c2cb50a4');\n",
       "var x = new MutationObserver(function (mutations, observer) {{\n",
       "        var display = window.getComputedStyle(gd).display;\n",
       "        if (!display || display === 'none') {{\n",
       "            console.log([gd, 'removed!']);\n",
       "            Plotly.purge(gd);\n",
       "            observer.disconnect();\n",
       "        }}\n",
       "}});\n",
       "\n",
       "// Listen for the removal of the full notebook cells\n",
       "var notebookContainer = gd.closest('#notebook-container');\n",
       "if (notebookContainer) {{\n",
       "    x.observe(notebookContainer, {childList: true});\n",
       "}}\n",
       "\n",
       "// Listen for the clearing of the current output cell\n",
       "var outputEl = gd.closest('.output');\n",
       "if (outputEl) {{\n",
       "    x.observe(outputEl, {childList: true});\n",
       "}}\n",
       "\n",
       "                        })                };                });            </script>        </div>"
      ]
     },
     "metadata": {},
     "output_type": "display_data"
    }
   ],
   "source": [
    "fig.add_trace(go.Scatter(x=df.index, y=df.open, name=\"mkt_price\"))\n",
    "fig.add_trace(go.Scatter(x=df.index, y=df[\"open MA 3\"], name=\"open MA 3\"))\n",
    "fig.add_trace(go.Scatter(x=buy_dates, y=buy_values, mode=\"markers\", name=\"Buy\"))\n",
    "fig.add_trace(go.Scatter(x=sell_dates, y=sell_values, mode=\"markers\", name=\"Sell\"))"
   ]
  },
  {
   "cell_type": "code",
   "execution_count": null,
   "id": "ed4b2eef-70c0-49ff-9fa7-375f8136bdd7",
   "metadata": {},
   "outputs": [],
   "source": [
    "len(df.index)"
   ]
  },
  {
   "cell_type": "code",
   "execution_count": null,
   "id": "0ec6d435-25f5-40ee-bef1-f0d298856def",
   "metadata": {},
   "outputs": [],
   "source": [
    "len(df.mkt_price)"
   ]
  },
  {
   "cell_type": "code",
   "execution_count": null,
   "id": "9699335d-8804-44d1-93b8-1380dfccd48c",
   "metadata": {},
   "outputs": [],
   "source": [
    "df[df.columns[-1]]"
   ]
  },
  {
   "cell_type": "code",
   "execution_count": null,
   "id": "d475a6ed-4ab3-4727-a009-90bce7ffdfe7",
   "metadata": {},
   "outputs": [],
   "source": [
    "df"
   ]
  },
  {
   "cell_type": "code",
   "execution_count": null,
   "id": "17670f47-53bb-4ba2-9d81-bd3fbdfbe6f1",
   "metadata": {},
   "outputs": [],
   "source": [
    "len(df.index)"
   ]
  },
  {
   "cell_type": "code",
   "execution_count": null,
   "id": "f8f12b38-1434-4ff4-8817-3c00a7bcdc06",
   "metadata": {},
   "outputs": [],
   "source": [
    "len(df)"
   ]
  },
  {
   "cell_type": "code",
   "execution_count": null,
   "id": "af2859da-82e5-49ce-9910-2680a51ac210",
   "metadata": {},
   "outputs": [],
   "source": []
  }
 ],
 "metadata": {
  "kernelspec": {
   "display_name": "Python 3 (ipykernel)",
   "language": "python",
   "name": "python3"
  },
  "language_info": {
   "codemirror_mode": {
    "name": "ipython",
    "version": 3
   },
   "file_extension": ".py",
   "mimetype": "text/x-python",
   "name": "python",
   "nbconvert_exporter": "python",
   "pygments_lexer": "ipython3",
   "version": "3.11.7"
  }
 },
 "nbformat": 4,
 "nbformat_minor": 5
}
